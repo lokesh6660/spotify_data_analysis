{
 "cells": [
  {
   "cell_type": "markdown",
   "id": "a0fc90fd",
   "metadata": {},
   "source": [
    "## now we work on data set of ballad_playlist_data"
   ]
  },
  {
   "cell_type": "code",
   "execution_count": 1,
   "id": "dada78ee",
   "metadata": {},
   "outputs": [],
   "source": [
    "import numpy as np\n",
    "import pandas as pd\n",
    "import matplotlib.pyplot as plt\n",
    "import seaborn as sns"
   ]
  },
  {
   "cell_type": "code",
   "execution_count": 82,
   "id": "34128d54",
   "metadata": {},
   "outputs": [
    {
     "data": {
      "text/html": [
       "<div>\n",
       "<style scoped>\n",
       "    .dataframe tbody tr th:only-of-type {\n",
       "        vertical-align: middle;\n",
       "    }\n",
       "\n",
       "    .dataframe tbody tr th {\n",
       "        vertical-align: top;\n",
       "    }\n",
       "\n",
       "    .dataframe thead th {\n",
       "        text-align: right;\n",
       "    }\n",
       "</style>\n",
       "<table border=\"1\" class=\"dataframe\">\n",
       "  <thead>\n",
       "    <tr style=\"text-align: right;\">\n",
       "      <th></th>\n",
       "      <th>playlist_id</th>\n",
       "      <th>playlist_name</th>\n",
       "      <th>playlist_total_tracks</th>\n",
       "      <th>owner_id</th>\n",
       "      <th>owner_name</th>\n",
       "      <th>total_followers</th>\n",
       "    </tr>\n",
       "  </thead>\n",
       "  <tbody>\n",
       "    <tr>\n",
       "      <th>0</th>\n",
       "      <td>37i9dQZF1DWYMvTygsLWlG</td>\n",
       "      <td>Love Ballads</td>\n",
       "      <td>150</td>\n",
       "      <td>spotify</td>\n",
       "      <td>Spotify</td>\n",
       "      <td>1889483</td>\n",
       "    </tr>\n",
       "    <tr>\n",
       "      <th>1</th>\n",
       "      <td>37i9dQZF1DWVIzZt2GAU4X</td>\n",
       "      <td>Piano Ballads</td>\n",
       "      <td>75</td>\n",
       "      <td>spotify</td>\n",
       "      <td>Spotify</td>\n",
       "      <td>1489806</td>\n",
       "    </tr>\n",
       "    <tr>\n",
       "      <th>2</th>\n",
       "      <td>37i9dQZF1DX1kydukZhLms</td>\n",
       "      <td>Metal Ballads</td>\n",
       "      <td>110</td>\n",
       "      <td>spotify</td>\n",
       "      <td>Spotify</td>\n",
       "      <td>1079904</td>\n",
       "    </tr>\n",
       "    <tr>\n",
       "      <th>3</th>\n",
       "      <td>37i9dQZF1DX82Zzp6AKx64</td>\n",
       "      <td>Rock Power Ballads</td>\n",
       "      <td>100</td>\n",
       "      <td>spotify</td>\n",
       "      <td>Spotify</td>\n",
       "      <td>1064848</td>\n",
       "    </tr>\n",
       "    <tr>\n",
       "      <th>4</th>\n",
       "      <td>37i9dQZF1DX3tuWZaHjp5y</td>\n",
       "      <td>Romantic Ballads</td>\n",
       "      <td>50</td>\n",
       "      <td>spotify</td>\n",
       "      <td>Spotify</td>\n",
       "      <td>657963</td>\n",
       "    </tr>\n",
       "    <tr>\n",
       "      <th>...</th>\n",
       "      <td>...</td>\n",
       "      <td>...</td>\n",
       "      <td>...</td>\n",
       "      <td>...</td>\n",
       "      <td>...</td>\n",
       "      <td>...</td>\n",
       "    </tr>\n",
       "    <tr>\n",
       "      <th>91</th>\n",
       "      <td>7x6t64n9b8jovxeuhqWALO</td>\n",
       "      <td>Ballade Pour Adeline</td>\n",
       "      <td>52</td>\n",
       "      <td>1yj777e0qp6f0kjxxugknp4bv</td>\n",
       "      <td>Nolyg.antazo</td>\n",
       "      <td>207</td>\n",
       "    </tr>\n",
       "    <tr>\n",
       "      <th>92</th>\n",
       "      <td>0dqKlgxkoa62Oqv7qsarzN</td>\n",
       "      <td>Ballad for Adeline</td>\n",
       "      <td>23</td>\n",
       "      <td>larry_agpuldo</td>\n",
       "      <td>larry_agpuldo</td>\n",
       "      <td>149</td>\n",
       "    </tr>\n",
       "    <tr>\n",
       "      <th>93</th>\n",
       "      <td>6gtrxyKSJ2Kl9awP9hzT9Y</td>\n",
       "      <td>Ballads of a Gunfighter</td>\n",
       "      <td>36</td>\n",
       "      <td>coop-9</td>\n",
       "      <td>Thecwby</td>\n",
       "      <td>83</td>\n",
       "    </tr>\n",
       "    <tr>\n",
       "      <th>94</th>\n",
       "      <td>1QbcH0cB4Al03QWLVdRJM5</td>\n",
       "      <td>Ballad nhẹ nhàng ❤️</td>\n",
       "      <td>37</td>\n",
       "      <td>31czfojrz3j3t3srjyscc62ce534</td>\n",
       "      <td>Phi Long</td>\n",
       "      <td>76</td>\n",
       "    </tr>\n",
       "    <tr>\n",
       "      <th>95</th>\n",
       "      <td>6gEZjGHE6Ot9pBz3Z0jir3</td>\n",
       "      <td>Ballads &amp; Love Songs</td>\n",
       "      <td>317</td>\n",
       "      <td>spongepola</td>\n",
       "      <td>spongepola</td>\n",
       "      <td>50</td>\n",
       "    </tr>\n",
       "  </tbody>\n",
       "</table>\n",
       "<p>96 rows × 6 columns</p>\n",
       "</div>"
      ],
      "text/plain": [
       "               playlist_id            playlist_name  playlist_total_tracks  \\\n",
       "0   37i9dQZF1DWYMvTygsLWlG             Love Ballads                    150   \n",
       "1   37i9dQZF1DWVIzZt2GAU4X            Piano Ballads                     75   \n",
       "2   37i9dQZF1DX1kydukZhLms            Metal Ballads                    110   \n",
       "3   37i9dQZF1DX82Zzp6AKx64       Rock Power Ballads                    100   \n",
       "4   37i9dQZF1DX3tuWZaHjp5y         Romantic Ballads                     50   \n",
       "..                     ...                      ...                    ...   \n",
       "91  7x6t64n9b8jovxeuhqWALO     Ballade Pour Adeline                     52   \n",
       "92  0dqKlgxkoa62Oqv7qsarzN       Ballad for Adeline                     23   \n",
       "93  6gtrxyKSJ2Kl9awP9hzT9Y  Ballads of a Gunfighter                     36   \n",
       "94  1QbcH0cB4Al03QWLVdRJM5      Ballad nhẹ nhàng ❤️                     37   \n",
       "95  6gEZjGHE6Ot9pBz3Z0jir3     Ballads & Love Songs                    317   \n",
       "\n",
       "                        owner_id     owner_name  total_followers  \n",
       "0                        spotify        Spotify          1889483  \n",
       "1                        spotify        Spotify          1489806  \n",
       "2                        spotify        Spotify          1079904  \n",
       "3                        spotify        Spotify          1064848  \n",
       "4                        spotify        Spotify           657963  \n",
       "..                           ...            ...              ...  \n",
       "91     1yj777e0qp6f0kjxxugknp4bv   Nolyg.antazo              207  \n",
       "92                 larry_agpuldo  larry_agpuldo              149  \n",
       "93                        coop-9        Thecwby               83  \n",
       "94  31czfojrz3j3t3srjyscc62ce534       Phi Long               76  \n",
       "95                    spongepola     spongepola               50  \n",
       "\n",
       "[96 rows x 6 columns]"
      ]
     },
     "execution_count": 82,
     "metadata": {},
     "output_type": "execute_result"
    }
   ],
   "source": [
    "df= pd.read_csv(r\"C:\\Users\\hp\\Desktop\\others\\cetpa\\archive (4)\\ballad_playlist_data.csv\")\n",
    "df\n"
   ]
  },
  {
   "cell_type": "code",
   "execution_count": 5,
   "id": "84569ba2",
   "metadata": {},
   "outputs": [
    {
     "data": {
      "text/plain": [
       "Index(['playlist_id', 'playlist_name', 'playlist_total_tracks', 'owner_id',\n",
       "       'owner_name', 'total_followers'],\n",
       "      dtype='object')"
      ]
     },
     "execution_count": 5,
     "metadata": {},
     "output_type": "execute_result"
    }
   ],
   "source": [
    "df.columns"
   ]
  },
  {
   "cell_type": "markdown",
   "id": "a3e9aec7",
   "metadata": {},
   "source": [
    "### now observe the given data set"
   ]
  },
  {
   "cell_type": "code",
   "execution_count": 7,
   "id": "ede6291a",
   "metadata": {},
   "outputs": [
    {
     "name": "stdout",
     "output_type": "stream",
     "text": [
      "<class 'pandas.core.frame.DataFrame'>\n",
      "RangeIndex: 96 entries, 0 to 95\n",
      "Data columns (total 6 columns):\n",
      " #   Column                 Non-Null Count  Dtype \n",
      "---  ------                 --------------  ----- \n",
      " 0   playlist_id            96 non-null     object\n",
      " 1   playlist_name          96 non-null     object\n",
      " 2   playlist_total_tracks  96 non-null     int64 \n",
      " 3   owner_id               96 non-null     object\n",
      " 4   owner_name             96 non-null     object\n",
      " 5   total_followers        96 non-null     int64 \n",
      "dtypes: int64(2), object(4)\n",
      "memory usage: 4.6+ KB\n"
     ]
    }
   ],
   "source": [
    "df.info()"
   ]
  },
  {
   "cell_type": "markdown",
   "id": "726134a2",
   "metadata": {},
   "source": [
    "#### only \"total_followers\" and \"playlist_total_tracks\" are numerical data frame"
   ]
  },
  {
   "cell_type": "code",
   "execution_count": 9,
   "id": "998383be",
   "metadata": {},
   "outputs": [
    {
     "data": {
      "text/html": [
       "<div>\n",
       "<style scoped>\n",
       "    .dataframe tbody tr th:only-of-type {\n",
       "        vertical-align: middle;\n",
       "    }\n",
       "\n",
       "    .dataframe tbody tr th {\n",
       "        vertical-align: top;\n",
       "    }\n",
       "\n",
       "    .dataframe thead th {\n",
       "        text-align: right;\n",
       "    }\n",
       "</style>\n",
       "<table border=\"1\" class=\"dataframe\">\n",
       "  <thead>\n",
       "    <tr style=\"text-align: right;\">\n",
       "      <th></th>\n",
       "      <th>playlist_total_tracks</th>\n",
       "      <th>total_followers</th>\n",
       "    </tr>\n",
       "  </thead>\n",
       "  <tbody>\n",
       "    <tr>\n",
       "      <th>count</th>\n",
       "      <td>96.000000</td>\n",
       "      <td>9.600000e+01</td>\n",
       "    </tr>\n",
       "    <tr>\n",
       "      <th>mean</th>\n",
       "      <td>130.958333</td>\n",
       "      <td>1.007417e+05</td>\n",
       "    </tr>\n",
       "    <tr>\n",
       "      <th>std</th>\n",
       "      <td>159.419402</td>\n",
       "      <td>3.006263e+05</td>\n",
       "    </tr>\n",
       "    <tr>\n",
       "      <th>min</th>\n",
       "      <td>21.000000</td>\n",
       "      <td>5.000000e+01</td>\n",
       "    </tr>\n",
       "    <tr>\n",
       "      <th>25%</th>\n",
       "      <td>50.000000</td>\n",
       "      <td>9.297500e+02</td>\n",
       "    </tr>\n",
       "    <tr>\n",
       "      <th>50%</th>\n",
       "      <td>93.500000</td>\n",
       "      <td>1.950000e+03</td>\n",
       "    </tr>\n",
       "    <tr>\n",
       "      <th>75%</th>\n",
       "      <td>150.000000</td>\n",
       "      <td>1.437875e+04</td>\n",
       "    </tr>\n",
       "    <tr>\n",
       "      <th>max</th>\n",
       "      <td>1253.000000</td>\n",
       "      <td>1.889483e+06</td>\n",
       "    </tr>\n",
       "  </tbody>\n",
       "</table>\n",
       "</div>"
      ],
      "text/plain": [
       "       playlist_total_tracks  total_followers\n",
       "count              96.000000     9.600000e+01\n",
       "mean              130.958333     1.007417e+05\n",
       "std               159.419402     3.006263e+05\n",
       "min                21.000000     5.000000e+01\n",
       "25%                50.000000     9.297500e+02\n",
       "50%                93.500000     1.950000e+03\n",
       "75%               150.000000     1.437875e+04\n",
       "max              1253.000000     1.889483e+06"
      ]
     },
     "execution_count": 9,
     "metadata": {},
     "output_type": "execute_result"
    }
   ],
   "source": [
    "df.describe()"
   ]
  },
  {
   "cell_type": "code",
   "execution_count": 10,
   "id": "0724d94f",
   "metadata": {},
   "outputs": [
    {
     "data": {
      "text/html": [
       "<div>\n",
       "<style scoped>\n",
       "    .dataframe tbody tr th:only-of-type {\n",
       "        vertical-align: middle;\n",
       "    }\n",
       "\n",
       "    .dataframe tbody tr th {\n",
       "        vertical-align: top;\n",
       "    }\n",
       "\n",
       "    .dataframe thead th {\n",
       "        text-align: right;\n",
       "    }\n",
       "</style>\n",
       "<table border=\"1\" class=\"dataframe\">\n",
       "  <thead>\n",
       "    <tr style=\"text-align: right;\">\n",
       "      <th></th>\n",
       "      <th>playlist_total_tracks</th>\n",
       "      <th>total_followers</th>\n",
       "    </tr>\n",
       "  </thead>\n",
       "  <tbody>\n",
       "    <tr>\n",
       "      <th>playlist_total_tracks</th>\n",
       "      <td>1.000000</td>\n",
       "      <td>-0.060371</td>\n",
       "    </tr>\n",
       "    <tr>\n",
       "      <th>total_followers</th>\n",
       "      <td>-0.060371</td>\n",
       "      <td>1.000000</td>\n",
       "    </tr>\n",
       "  </tbody>\n",
       "</table>\n",
       "</div>"
      ],
      "text/plain": [
       "                       playlist_total_tracks  total_followers\n",
       "playlist_total_tracks               1.000000        -0.060371\n",
       "total_followers                    -0.060371         1.000000"
      ]
     },
     "execution_count": 10,
     "metadata": {},
     "output_type": "execute_result"
    }
   ],
   "source": [
    "df.corr()"
   ]
  },
  {
   "cell_type": "markdown",
   "id": "f11bd9a0",
   "metadata": {},
   "source": [
    "#### we got correlation between \"total_followers\" and \"playlist_total_tracks\" is -0.060371"
   ]
  },
  {
   "cell_type": "markdown",
   "id": "e01ea503",
   "metadata": {},
   "source": [
    "----\n",
    "----\n",
    "\n",
    "### now we take some semple data in the whole data set\n"
   ]
  },
  {
   "cell_type": "code",
   "execution_count": 11,
   "id": "7fb0ec49",
   "metadata": {},
   "outputs": [
    {
     "data": {
      "text/html": [
       "<div>\n",
       "<style scoped>\n",
       "    .dataframe tbody tr th:only-of-type {\n",
       "        vertical-align: middle;\n",
       "    }\n",
       "\n",
       "    .dataframe tbody tr th {\n",
       "        vertical-align: top;\n",
       "    }\n",
       "\n",
       "    .dataframe thead th {\n",
       "        text-align: right;\n",
       "    }\n",
       "</style>\n",
       "<table border=\"1\" class=\"dataframe\">\n",
       "  <thead>\n",
       "    <tr style=\"text-align: right;\">\n",
       "      <th></th>\n",
       "      <th>playlist_id</th>\n",
       "      <th>playlist_name</th>\n",
       "      <th>playlist_total_tracks</th>\n",
       "      <th>owner_id</th>\n",
       "      <th>owner_name</th>\n",
       "      <th>total_followers</th>\n",
       "    </tr>\n",
       "  </thead>\n",
       "  <tbody>\n",
       "    <tr>\n",
       "      <th>0</th>\n",
       "      <td>37i9dQZF1DWYMvTygsLWlG</td>\n",
       "      <td>Love Ballads</td>\n",
       "      <td>150</td>\n",
       "      <td>spotify</td>\n",
       "      <td>Spotify</td>\n",
       "      <td>1889483</td>\n",
       "    </tr>\n",
       "    <tr>\n",
       "      <th>1</th>\n",
       "      <td>37i9dQZF1DWVIzZt2GAU4X</td>\n",
       "      <td>Piano Ballads</td>\n",
       "      <td>75</td>\n",
       "      <td>spotify</td>\n",
       "      <td>Spotify</td>\n",
       "      <td>1489806</td>\n",
       "    </tr>\n",
       "    <tr>\n",
       "      <th>2</th>\n",
       "      <td>37i9dQZF1DX1kydukZhLms</td>\n",
       "      <td>Metal Ballads</td>\n",
       "      <td>110</td>\n",
       "      <td>spotify</td>\n",
       "      <td>Spotify</td>\n",
       "      <td>1079904</td>\n",
       "    </tr>\n",
       "    <tr>\n",
       "      <th>3</th>\n",
       "      <td>37i9dQZF1DX82Zzp6AKx64</td>\n",
       "      <td>Rock Power Ballads</td>\n",
       "      <td>100</td>\n",
       "      <td>spotify</td>\n",
       "      <td>Spotify</td>\n",
       "      <td>1064848</td>\n",
       "    </tr>\n",
       "    <tr>\n",
       "      <th>4</th>\n",
       "      <td>37i9dQZF1DX3tuWZaHjp5y</td>\n",
       "      <td>Romantic Ballads</td>\n",
       "      <td>50</td>\n",
       "      <td>spotify</td>\n",
       "      <td>Spotify</td>\n",
       "      <td>657963</td>\n",
       "    </tr>\n",
       "  </tbody>\n",
       "</table>\n",
       "</div>"
      ],
      "text/plain": [
       "              playlist_id       playlist_name  playlist_total_tracks owner_id  \\\n",
       "0  37i9dQZF1DWYMvTygsLWlG        Love Ballads                    150  spotify   \n",
       "1  37i9dQZF1DWVIzZt2GAU4X       Piano Ballads                     75  spotify   \n",
       "2  37i9dQZF1DX1kydukZhLms       Metal Ballads                    110  spotify   \n",
       "3  37i9dQZF1DX82Zzp6AKx64  Rock Power Ballads                    100  spotify   \n",
       "4  37i9dQZF1DX3tuWZaHjp5y    Romantic Ballads                     50  spotify   \n",
       "\n",
       "  owner_name  total_followers  \n",
       "0    Spotify          1889483  \n",
       "1    Spotify          1489806  \n",
       "2    Spotify          1079904  \n",
       "3    Spotify          1064848  \n",
       "4    Spotify           657963  "
      ]
     },
     "execution_count": 11,
     "metadata": {},
     "output_type": "execute_result"
    }
   ],
   "source": [
    "df.head(5)"
   ]
  },
  {
   "cell_type": "code",
   "execution_count": 12,
   "id": "8956b2e9",
   "metadata": {},
   "outputs": [
    {
     "data": {
      "text/html": [
       "<div>\n",
       "<style scoped>\n",
       "    .dataframe tbody tr th:only-of-type {\n",
       "        vertical-align: middle;\n",
       "    }\n",
       "\n",
       "    .dataframe tbody tr th {\n",
       "        vertical-align: top;\n",
       "    }\n",
       "\n",
       "    .dataframe thead th {\n",
       "        text-align: right;\n",
       "    }\n",
       "</style>\n",
       "<table border=\"1\" class=\"dataframe\">\n",
       "  <thead>\n",
       "    <tr style=\"text-align: right;\">\n",
       "      <th></th>\n",
       "      <th>playlist_id</th>\n",
       "      <th>playlist_name</th>\n",
       "      <th>playlist_total_tracks</th>\n",
       "      <th>owner_id</th>\n",
       "      <th>owner_name</th>\n",
       "      <th>total_followers</th>\n",
       "    </tr>\n",
       "  </thead>\n",
       "  <tbody>\n",
       "    <tr>\n",
       "      <th>91</th>\n",
       "      <td>7x6t64n9b8jovxeuhqWALO</td>\n",
       "      <td>Ballade Pour Adeline</td>\n",
       "      <td>52</td>\n",
       "      <td>1yj777e0qp6f0kjxxugknp4bv</td>\n",
       "      <td>Nolyg.antazo</td>\n",
       "      <td>207</td>\n",
       "    </tr>\n",
       "    <tr>\n",
       "      <th>92</th>\n",
       "      <td>0dqKlgxkoa62Oqv7qsarzN</td>\n",
       "      <td>Ballad for Adeline</td>\n",
       "      <td>23</td>\n",
       "      <td>larry_agpuldo</td>\n",
       "      <td>larry_agpuldo</td>\n",
       "      <td>149</td>\n",
       "    </tr>\n",
       "    <tr>\n",
       "      <th>93</th>\n",
       "      <td>6gtrxyKSJ2Kl9awP9hzT9Y</td>\n",
       "      <td>Ballads of a Gunfighter</td>\n",
       "      <td>36</td>\n",
       "      <td>coop-9</td>\n",
       "      <td>Thecwby</td>\n",
       "      <td>83</td>\n",
       "    </tr>\n",
       "    <tr>\n",
       "      <th>94</th>\n",
       "      <td>1QbcH0cB4Al03QWLVdRJM5</td>\n",
       "      <td>Ballad nhẹ nhàng ❤️</td>\n",
       "      <td>37</td>\n",
       "      <td>31czfojrz3j3t3srjyscc62ce534</td>\n",
       "      <td>Phi Long</td>\n",
       "      <td>76</td>\n",
       "    </tr>\n",
       "    <tr>\n",
       "      <th>95</th>\n",
       "      <td>6gEZjGHE6Ot9pBz3Z0jir3</td>\n",
       "      <td>Ballads &amp; Love Songs</td>\n",
       "      <td>317</td>\n",
       "      <td>spongepola</td>\n",
       "      <td>spongepola</td>\n",
       "      <td>50</td>\n",
       "    </tr>\n",
       "  </tbody>\n",
       "</table>\n",
       "</div>"
      ],
      "text/plain": [
       "               playlist_id            playlist_name  playlist_total_tracks  \\\n",
       "91  7x6t64n9b8jovxeuhqWALO     Ballade Pour Adeline                     52   \n",
       "92  0dqKlgxkoa62Oqv7qsarzN       Ballad for Adeline                     23   \n",
       "93  6gtrxyKSJ2Kl9awP9hzT9Y  Ballads of a Gunfighter                     36   \n",
       "94  1QbcH0cB4Al03QWLVdRJM5      Ballad nhẹ nhàng ❤️                     37   \n",
       "95  6gEZjGHE6Ot9pBz3Z0jir3     Ballads & Love Songs                    317   \n",
       "\n",
       "                        owner_id     owner_name  total_followers  \n",
       "91     1yj777e0qp6f0kjxxugknp4bv   Nolyg.antazo              207  \n",
       "92                 larry_agpuldo  larry_agpuldo              149  \n",
       "93                        coop-9        Thecwby               83  \n",
       "94  31czfojrz3j3t3srjyscc62ce534       Phi Long               76  \n",
       "95                    spongepola     spongepola               50  "
      ]
     },
     "execution_count": 12,
     "metadata": {},
     "output_type": "execute_result"
    }
   ],
   "source": [
    "df.tail(5)"
   ]
  },
  {
   "cell_type": "code",
   "execution_count": 13,
   "id": "88d0d5d1",
   "metadata": {},
   "outputs": [
    {
     "data": {
      "text/html": [
       "<div>\n",
       "<style scoped>\n",
       "    .dataframe tbody tr th:only-of-type {\n",
       "        vertical-align: middle;\n",
       "    }\n",
       "\n",
       "    .dataframe tbody tr th {\n",
       "        vertical-align: top;\n",
       "    }\n",
       "\n",
       "    .dataframe thead th {\n",
       "        text-align: right;\n",
       "    }\n",
       "</style>\n",
       "<table border=\"1\" class=\"dataframe\">\n",
       "  <thead>\n",
       "    <tr style=\"text-align: right;\">\n",
       "      <th></th>\n",
       "      <th>playlist_id</th>\n",
       "      <th>playlist_name</th>\n",
       "      <th>playlist_total_tracks</th>\n",
       "      <th>owner_id</th>\n",
       "      <th>owner_name</th>\n",
       "      <th>total_followers</th>\n",
       "    </tr>\n",
       "  </thead>\n",
       "  <tbody>\n",
       "    <tr>\n",
       "      <th>37</th>\n",
       "      <td>3Oui2z9hGk82wfdVQz5nEA</td>\n",
       "      <td>Ballader, Lugna låtar</td>\n",
       "      <td>132</td>\n",
       "      <td>wickked</td>\n",
       "      <td>Mathias Lorentzon</td>\n",
       "      <td>4537</td>\n",
       "    </tr>\n",
       "    <tr>\n",
       "      <th>94</th>\n",
       "      <td>1QbcH0cB4Al03QWLVdRJM5</td>\n",
       "      <td>Ballad nhẹ nhàng ❤️</td>\n",
       "      <td>37</td>\n",
       "      <td>31czfojrz3j3t3srjyscc62ce534</td>\n",
       "      <td>Phi Long</td>\n",
       "      <td>76</td>\n",
       "    </tr>\n",
       "    <tr>\n",
       "      <th>53</th>\n",
       "      <td>7vhpxu86i8iVG7PmxQtvuT</td>\n",
       "      <td>OPM Acoustic Love Songs/Ballads/Soul</td>\n",
       "      <td>311</td>\n",
       "      <td>226gg6cvmuobg2i3377x725xq</td>\n",
       "      <td>Philip Galvin</td>\n",
       "      <td>1811</td>\n",
       "    </tr>\n",
       "    <tr>\n",
       "      <th>11</th>\n",
       "      <td>37i9dQZF1DX4laDTTxplAf</td>\n",
       "      <td>00s Ballads</td>\n",
       "      <td>70</td>\n",
       "      <td>spotify</td>\n",
       "      <td>Spotify</td>\n",
       "      <td>212814</td>\n",
       "    </tr>\n",
       "    <tr>\n",
       "      <th>47</th>\n",
       "      <td>4m90SATaAYp4v800j97Zon</td>\n",
       "      <td>80's OPM ballads</td>\n",
       "      <td>280</td>\n",
       "      <td>monixski114</td>\n",
       "      <td>monixski114</td>\n",
       "      <td>1951</td>\n",
       "    </tr>\n",
       "  </tbody>\n",
       "</table>\n",
       "</div>"
      ],
      "text/plain": [
       "               playlist_id                         playlist_name  \\\n",
       "37  3Oui2z9hGk82wfdVQz5nEA                 Ballader, Lugna låtar   \n",
       "94  1QbcH0cB4Al03QWLVdRJM5                   Ballad nhẹ nhàng ❤️   \n",
       "53  7vhpxu86i8iVG7PmxQtvuT  OPM Acoustic Love Songs/Ballads/Soul   \n",
       "11  37i9dQZF1DX4laDTTxplAf                           00s Ballads   \n",
       "47  4m90SATaAYp4v800j97Zon                      80's OPM ballads   \n",
       "\n",
       "    playlist_total_tracks                      owner_id         owner_name  \\\n",
       "37                    132                       wickked  Mathias Lorentzon   \n",
       "94                     37  31czfojrz3j3t3srjyscc62ce534           Phi Long   \n",
       "53                    311     226gg6cvmuobg2i3377x725xq      Philip Galvin   \n",
       "11                     70                       spotify            Spotify   \n",
       "47                    280                   monixski114        monixski114   \n",
       "\n",
       "    total_followers  \n",
       "37             4537  \n",
       "94               76  \n",
       "53             1811  \n",
       "11           212814  \n",
       "47             1951  "
      ]
     },
     "execution_count": 13,
     "metadata": {},
     "output_type": "execute_result"
    }
   ],
   "source": [
    "df.sample(5)"
   ]
  },
  {
   "cell_type": "markdown",
   "id": "072ac47e",
   "metadata": {},
   "source": [
    "### we clearly see different type of data in data set and behavior perform by the data "
   ]
  },
  {
   "cell_type": "markdown",
   "id": "fa0ff423",
   "metadata": {},
   "source": [
    "-----\n",
    "-----\n",
    "-----"
   ]
  },
  {
   "cell_type": "markdown",
   "id": "3b2f2e2d",
   "metadata": {},
   "source": [
    "## Next step is to cheak missing value in data set"
   ]
  },
  {
   "cell_type": "code",
   "execution_count": 19,
   "id": "c0c3b306",
   "metadata": {},
   "outputs": [
    {
     "data": {
      "text/plain": [
       "playlist_id              0\n",
       "playlist_name            0\n",
       "playlist_total_tracks    0\n",
       "owner_id                 0\n",
       "owner_name               0\n",
       "total_followers          0\n",
       "dtype: int64"
      ]
     },
     "execution_count": 19,
     "metadata": {},
     "output_type": "execute_result"
    }
   ],
   "source": [
    "df.isnull().sum()"
   ]
  },
  {
   "cell_type": "code",
   "execution_count": 20,
   "id": "f388571e",
   "metadata": {},
   "outputs": [
    {
     "data": {
      "text/plain": [
       "0"
      ]
     },
     "execution_count": 20,
     "metadata": {},
     "output_type": "execute_result"
    }
   ],
   "source": [
    "df.isnull().sum().sum()"
   ]
  },
  {
   "cell_type": "code",
   "execution_count": 21,
   "id": "6b0245e2",
   "metadata": {},
   "outputs": [
    {
     "data": {
      "text/plain": [
       "<AxesSubplot:>"
      ]
     },
     "execution_count": 21,
     "metadata": {},
     "output_type": "execute_result"
    },
    {
     "data": {
      "image/png": "[encoded data removed]",
      "text/plain": [
       "<Figure size 432x288 with 2 Axes>"
      ]
     },
     "metadata": {
      "needs_background": "light"
     },
     "output_type": "display_data"
    }
   ],
   "source": [
    "sns.heatmap(df.isnull())"
   ]
  },
  {
   "cell_type": "markdown",
   "id": "1f73367a",
   "metadata": {},
   "source": [
    "### As we clearly see that no missing value is present in the following manner:\n",
    "\n",
    "#### 1.No missing value in each column in data set\n",
    "\n",
    "#### 2.No missing value present in the whole data set\n",
    "\n",
    "#### 3.No missing value find in heatmap \n",
    "\n",
    "-------\n",
    "-------"
   ]
  },
  {
   "cell_type": "markdown",
   "id": "191bb268",
   "metadata": {},
   "source": [
    "## Now we cheak behavior of different columns"
   ]
  },
  {
   "cell_type": "code",
   "execution_count": 15,
   "id": "855a8fa9",
   "metadata": {},
   "outputs": [
    {
     "data": {
      "text/plain": [
       "Index(['playlist_id', 'playlist_name', 'playlist_total_tracks', 'owner_id',\n",
       "       'owner_name', 'total_followers'],\n",
       "      dtype='object')"
      ]
     },
     "execution_count": 15,
     "metadata": {},
     "output_type": "execute_result"
    }
   ],
   "source": [
    "df.columns"
   ]
  },
  {
   "cell_type": "markdown",
   "id": "4f495385",
   "metadata": {},
   "source": [
    "## for \"playlist_name\""
   ]
  },
  {
   "cell_type": "code",
   "execution_count": 16,
   "id": "4be5bddb",
   "metadata": {},
   "outputs": [
    {
     "data": {
      "text/plain": [
       "96"
      ]
     },
     "execution_count": 16,
     "metadata": {},
     "output_type": "execute_result"
    }
   ],
   "source": [
    "df[\"playlist_name\"].nunique()"
   ]
  },
  {
   "cell_type": "code",
   "execution_count": 17,
   "id": "b5cf62a8",
   "metadata": {},
   "outputs": [
    {
     "data": {
      "text/plain": [
       "array(['Love Ballads', 'Piano Ballads', 'Metal Ballads',\n",
       "       'Rock Power Ballads', 'Romantic Ballads', 'Rock Ballads',\n",
       "       'Pinoy Love Ballads', '발라드, 려요 (K-Pop Ballad Hits)',\n",
       "       '80s Ballads Hits', '90s Ballads', '80s Ballads', '00s Ballads',\n",
       "       '70s Ballads', 'Ballads From The Musicals',\n",
       "       'Ballads International', 'Power Ballads', '60s Ballads',\n",
       "       'De største ballader', 'Jazz Ballads',\n",
       "       'Slow Rock Songs 70s 80s 90s | Best Slow Rock Love Songs, Ballads & Classics',\n",
       "       'Blues Ballads/ Slow Blues', 'Greatest Rock Ballads',\n",
       "       'Rock ballads - Slow Rock - Power Ballads - Soft Rock - Love songs',\n",
       "       'Bara ballader', 'Power Ballads 80s 90s', '10s Ballads',\n",
       "       'Eurovision Ballads', 'Acoustic Ballads ✨ Playlist',\n",
       "       'EXO Ballad Songs', 'OPM Classics and Ballads',\n",
       "       'Ballader ❤️ Lugna låtar', 'Rød-hvide ballader', 'Balladen✨',\n",
       "       'Rock Love Ballads', 'NCT Ballad Songs', 'Ballads to belt ',\n",
       "       'Rock Balladen 🎸', 'Ballader, Lugna låtar',\n",
       "       'Ballady Wszech Czasów', 'Top Deutsche Liebeslieder & Balladen',\n",
       "       'Bruce Springsteen ballads', 'BALLAD LOVE SONGS',\n",
       "       'Balladen zum Mitsingen', '—IU soft/ballad playlist;🌷',\n",
       "       'irish ballads', 'Greatest love ballads', 'SEVENTEEN BALLADS',\n",
       "       \"80's OPM ballads\", 'Murder Ballads', 'Pop Ballads & Acoustic',\n",
       "       \"BALLADS - 80's 90's 2000s\", \" Elvis' Ballads\",\n",
       "       'BALLAD KOREAN SONG 😴😴', 'OPM Acoustic Love Songs/Ballads/Soul',\n",
       "       'Best of Rock Balladen', '2000s Ballads ', 'Ballad Việt',\n",
       "       'Kpop Ballads/Soft Songs', 'Best of Ballads & Love Songs',\n",
       "       \"Eddie Zondi's Romantic Ballads  Ultimate Collection\",\n",
       "       'Rammstein Balladen', 'Svenska Visor & Ballader',\n",
       "       'BALLADS METAL/ROCK', 'ballads to (cry) sing',\n",
       "       'BALLADS TO SING IN THE CAR', 'WASP Ballads',\n",
       "       'Ballade Nocturne / Musiques de Nuit - Max Starsystem ✨🌙⭐',\n",
       "       'Ballad Ngày Mưa', 'Slow Rock Ballads', 'IU Ballads',\n",
       "       'Love Ballads (Oldies)', 'Ballady rockowe wszechczasów',\n",
       "       'Western Ballad', 'Best of Balladen', 'BALLADY POLSKIE',\n",
       "       'Bästa balladerna', 'Old Ballad Songs', 'OPM ballads 80s 90s 00s',\n",
       "       'Greatest Male Ballads', 'Ballads of the Balad ',\n",
       "       'ballady metalowe', 'Indonesian Ballad Hits ✨',\n",
       "       'twice ballads/slow/soft songs', 'OPM Love Ballads 2022 😙',\n",
       "       'Ballad buồn', 'Best of Irish Ballads', 'BTS Ballad',\n",
       "       'Ballady miłosne', 'Ballady Romantyczne', 'balladen 2000-er',\n",
       "       'OPM MALE BALLADS', 'Ballade Pour Adeline', 'Ballad for Adeline',\n",
       "       'Ballads of a Gunfighter', 'Ballad nhẹ nhàng ❤️',\n",
       "       'Ballads & Love Songs'], dtype=object)"
      ]
     },
     "execution_count": 17,
     "metadata": {},
     "output_type": "execute_result"
    }
   ],
   "source": [
    "df[\"playlist_name\"].unique()"
   ]
  },
  {
   "cell_type": "markdown",
   "id": "fda2cff7",
   "metadata": {},
   "source": [
    "## for \"playlist_total_tracks\""
   ]
  },
  {
   "cell_type": "code",
   "execution_count": 18,
   "id": "87a6526c",
   "metadata": {},
   "outputs": [
    {
     "data": {
      "text/plain": [
       "72"
      ]
     },
     "execution_count": 18,
     "metadata": {},
     "output_type": "execute_result"
    }
   ],
   "source": [
    "df[\"playlist_total_tracks\"].nunique()"
   ]
  },
  {
   "cell_type": "code",
   "execution_count": 27,
   "id": "3e21cf47",
   "metadata": {},
   "outputs": [
    {
     "data": {
      "text/plain": [
       "array([ 150,   75,  110,  100,   50,   70,  109,  178,   85,  133,   55,\n",
       "        381,  188,   53,   45,  103,   89,  164,  219,   60,  108,  143,\n",
       "         27,  120,  132,  111,  422,   48,  426,   67,   44,  218,  142,\n",
       "        280,   34,  159,  199,   41,   73,  311,  288,   98,  169,  203,\n",
       "        144,   24,   30,  165, 1253,   22,  802,   57,   47,  161,   79,\n",
       "        105,  126,   77,  101,  134,  224,   99,   88,   71,   21,   82,\n",
       "         86,   52,   23,   36,   37,  317], dtype=int64)"
      ]
     },
     "execution_count": 27,
     "metadata": {},
     "output_type": "execute_result"
    }
   ],
   "source": [
    "df[\"playlist_total_tracks\"].unique()"
   ]
  },
  {
   "cell_type": "markdown",
   "id": "286eb6da",
   "metadata": {},
   "source": [
    "## for \"owner_name\""
   ]
  },
  {
   "cell_type": "code",
   "execution_count": 26,
   "id": "3054f8d8",
   "metadata": {},
   "outputs": [
    {
     "data": {
      "text/plain": [
       "73"
      ]
     },
     "execution_count": 26,
     "metadata": {},
     "output_type": "execute_result"
    }
   ],
   "source": [
    "df[\"owner_name\"].nunique()"
   ]
  },
  {
   "cell_type": "code",
   "execution_count": 24,
   "id": "2dc8bbe7",
   "metadata": {},
   "outputs": [
    {
     "data": {
      "text/plain": [
       "array(['Spotify', 'Filtr Sweden', 'Listanauta', 'Joar Fosså',\n",
       "       'Gustavo Thiele', 'aibiec8', 'Matt Johnson', 'Ale Comparan Suarez',\n",
       "       'Miguel De Ocampo', 'merle.wellige', 'Tonny Alves', 'n.adianafisa',\n",
       "       'bradyhalliday', 'Niklas Dreier', 'Mathias Lorentzon',\n",
       "       'Ania Reiter', 'Oliver Stahmann', 'Eric Van Heesen',\n",
       "       'Dänielle Mikæla', 'Lörnstar', '1164493236', 'Aisling C',\n",
       "       'michael_tucker2', 'mjra_', 'monixski114', 'DaltonGiberson',\n",
       "       'jonathanchou', 'jsdizoe25i3dm9yrikewcooab', 'Jim Sherrington',\n",
       "       'Monsdjho25', 'Philip Galvin', 'florian196718', 'Ashley Hoegger ',\n",
       "       'Thiên Nguyễn', 'Mandy', 'VANC', 'Melvin Johnson', 'János Günther',\n",
       "       'Patrik Rasmussen', 'Efe Bülbül', 'isabella jemal',\n",
       "       'Samantha Panchevre', 'Jc Camacho', 'ciolx', 'Digster Vietnam',\n",
       "       'drnyol', 'qwtrplx', 'jayr.dl', 'Basia Maj', 'Nicoabuda',\n",
       "       'Marcusmueller', 'janek-agaton', 'Anna Johansson',\n",
       "       'CDS OLD ACCOUNT', 'SzapS', 'Donnel Oling', 'Aicha Khodr',\n",
       "       'Beata.jurkowska', 'Aerinaeri', '렌 Swift', 'buntala', 'dctoc',\n",
       "       'Mei  C Man', 'You', 'Tomasz Grzechnik', 'Irek', 'Fred Delno',\n",
       "       'Te Joy', 'Nolyg.antazo', 'larry_agpuldo', 'Thecwby', 'Phi Long',\n",
       "       'spongepola'], dtype=object)"
      ]
     },
     "execution_count": 24,
     "metadata": {},
     "output_type": "execute_result"
    }
   ],
   "source": [
    "df[\"owner_name\"].unique()"
   ]
  },
  {
   "cell_type": "markdown",
   "id": "9d33a54b",
   "metadata": {},
   "source": [
    "## for \"total_followers\""
   ]
  },
  {
   "cell_type": "code",
   "execution_count": 83,
   "id": "b64f15e4",
   "metadata": {},
   "outputs": [
    {
     "data": {
      "text/plain": [
       "1889483"
      ]
     },
     "execution_count": 83,
     "metadata": {},
     "output_type": "execute_result"
    }
   ],
   "source": [
    "max1=df[\"total_followers\"].max()\n",
    "max1"
   ]
  },
  {
   "cell_type": "code",
   "execution_count": 84,
   "id": "001782f5",
   "metadata": {},
   "outputs": [
    {
     "data": {
      "text/html": [
       "<div>\n",
       "<style scoped>\n",
       "    .dataframe tbody tr th:only-of-type {\n",
       "        vertical-align: middle;\n",
       "    }\n",
       "\n",
       "    .dataframe tbody tr th {\n",
       "        vertical-align: top;\n",
       "    }\n",
       "\n",
       "    .dataframe thead th {\n",
       "        text-align: right;\n",
       "    }\n",
       "</style>\n",
       "<table border=\"1\" class=\"dataframe\">\n",
       "  <thead>\n",
       "    <tr style=\"text-align: right;\">\n",
       "      <th></th>\n",
       "      <th>owner_name</th>\n",
       "      <th>playlist_name</th>\n",
       "      <th>total_followers</th>\n",
       "    </tr>\n",
       "  </thead>\n",
       "  <tbody>\n",
       "    <tr>\n",
       "      <th>0</th>\n",
       "      <td>Spotify</td>\n",
       "      <td>Love Ballads</td>\n",
       "      <td>1889483</td>\n",
       "    </tr>\n",
       "  </tbody>\n",
       "</table>\n",
       "</div>"
      ],
      "text/plain": [
       "  owner_name playlist_name  total_followers\n",
       "0    Spotify  Love Ballads          1889483"
      ]
     },
     "execution_count": 84,
     "metadata": {},
     "output_type": "execute_result"
    }
   ],
   "source": [
    "df[df['total_followers']==max1][[\"owner_name\",\"playlist_name\",\"total_followers\"]]"
   ]
  },
  {
   "cell_type": "code",
   "execution_count": 85,
   "id": "9fc0976d",
   "metadata": {},
   "outputs": [
    {
     "data": {
      "text/plain": [
       "50"
      ]
     },
     "execution_count": 85,
     "metadata": {},
     "output_type": "execute_result"
    }
   ],
   "source": [
    "min1=df[\"total_followers\"].min()\n",
    "min1"
   ]
  },
  {
   "cell_type": "code",
   "execution_count": 86,
   "id": "164a342d",
   "metadata": {},
   "outputs": [
    {
     "data": {
      "text/html": [
       "<div>\n",
       "<style scoped>\n",
       "    .dataframe tbody tr th:only-of-type {\n",
       "        vertical-align: middle;\n",
       "    }\n",
       "\n",
       "    .dataframe tbody tr th {\n",
       "        vertical-align: top;\n",
       "    }\n",
       "\n",
       "    .dataframe thead th {\n",
       "        text-align: right;\n",
       "    }\n",
       "</style>\n",
       "<table border=\"1\" class=\"dataframe\">\n",
       "  <thead>\n",
       "    <tr style=\"text-align: right;\">\n",
       "      <th></th>\n",
       "      <th>owner_name</th>\n",
       "      <th>playlist_name</th>\n",
       "      <th>total_followers</th>\n",
       "    </tr>\n",
       "  </thead>\n",
       "  <tbody>\n",
       "    <tr>\n",
       "      <th>95</th>\n",
       "      <td>spongepola</td>\n",
       "      <td>Ballads &amp; Love Songs</td>\n",
       "      <td>50</td>\n",
       "    </tr>\n",
       "  </tbody>\n",
       "</table>\n",
       "</div>"
      ],
      "text/plain": [
       "    owner_name         playlist_name  total_followers\n",
       "95  spongepola  Ballads & Love Songs               50"
      ]
     },
     "execution_count": 86,
     "metadata": {},
     "output_type": "execute_result"
    }
   ],
   "source": [
    "df[df['total_followers']==min1][[\"owner_name\",\"playlist_name\",\"total_followers\"]]\n"
   ]
  },
  {
   "cell_type": "markdown",
   "id": "176691ad",
   "metadata": {},
   "source": [
    "----\n",
    "----"
   ]
  },
  {
   "cell_type": "markdown",
   "id": "8079bc19",
   "metadata": {},
   "source": [
    "## As we clearly see that this data set is order with respect to \"total_followers\" "
   ]
  },
  {
   "cell_type": "markdown",
   "id": "96566719",
   "metadata": {},
   "source": [
    "### so we can easly plot a graph for this data set with respect to \"total_followers\""
   ]
  },
  {
   "cell_type": "markdown",
   "id": "043ef597",
   "metadata": {},
   "source": [
    "#### we take top 10 highest followed playlist_name"
   ]
  },
  {
   "cell_type": "code",
   "execution_count": 97,
   "id": "903ab7f7",
   "metadata": {},
   "outputs": [
    {
     "data": {
      "text/html": [
       "<div>\n",
       "<style scoped>\n",
       "    .dataframe tbody tr th:only-of-type {\n",
       "        vertical-align: middle;\n",
       "    }\n",
       "\n",
       "    .dataframe tbody tr th {\n",
       "        vertical-align: top;\n",
       "    }\n",
       "\n",
       "    .dataframe thead th {\n",
       "        text-align: right;\n",
       "    }\n",
       "</style>\n",
       "<table border=\"1\" class=\"dataframe\">\n",
       "  <thead>\n",
       "    <tr style=\"text-align: right;\">\n",
       "      <th></th>\n",
       "      <th>playlist_id</th>\n",
       "      <th>playlist_name</th>\n",
       "      <th>playlist_total_tracks</th>\n",
       "      <th>owner_id</th>\n",
       "      <th>owner_name</th>\n",
       "      <th>total_followers</th>\n",
       "    </tr>\n",
       "  </thead>\n",
       "  <tbody>\n",
       "    <tr>\n",
       "      <th>0</th>\n",
       "      <td>37i9dQZF1DWYMvTygsLWlG</td>\n",
       "      <td>Love Ballads</td>\n",
       "      <td>150</td>\n",
       "      <td>spotify</td>\n",
       "      <td>Spotify</td>\n",
       "      <td>1889483</td>\n",
       "    </tr>\n",
       "    <tr>\n",
       "      <th>1</th>\n",
       "      <td>37i9dQZF1DWVIzZt2GAU4X</td>\n",
       "      <td>Piano Ballads</td>\n",
       "      <td>75</td>\n",
       "      <td>spotify</td>\n",
       "      <td>Spotify</td>\n",
       "      <td>1489806</td>\n",
       "    </tr>\n",
       "    <tr>\n",
       "      <th>2</th>\n",
       "      <td>37i9dQZF1DX1kydukZhLms</td>\n",
       "      <td>Metal Ballads</td>\n",
       "      <td>110</td>\n",
       "      <td>spotify</td>\n",
       "      <td>Spotify</td>\n",
       "      <td>1079904</td>\n",
       "    </tr>\n",
       "    <tr>\n",
       "      <th>3</th>\n",
       "      <td>37i9dQZF1DX82Zzp6AKx64</td>\n",
       "      <td>Rock Power Ballads</td>\n",
       "      <td>100</td>\n",
       "      <td>spotify</td>\n",
       "      <td>Spotify</td>\n",
       "      <td>1064848</td>\n",
       "    </tr>\n",
       "    <tr>\n",
       "      <th>4</th>\n",
       "      <td>37i9dQZF1DX3tuWZaHjp5y</td>\n",
       "      <td>Romantic Ballads</td>\n",
       "      <td>50</td>\n",
       "      <td>spotify</td>\n",
       "      <td>Spotify</td>\n",
       "      <td>657963</td>\n",
       "    </tr>\n",
       "    <tr>\n",
       "      <th>5</th>\n",
       "      <td>37i9dQZF1DWXs1L3AC0Xio</td>\n",
       "      <td>Rock Ballads</td>\n",
       "      <td>100</td>\n",
       "      <td>spotify</td>\n",
       "      <td>Spotify</td>\n",
       "      <td>622431</td>\n",
       "    </tr>\n",
       "    <tr>\n",
       "      <th>6</th>\n",
       "      <td>37i9dQZF1DWSjwScXt3ScZ</td>\n",
       "      <td>Pinoy Love Ballads</td>\n",
       "      <td>70</td>\n",
       "      <td>spotify</td>\n",
       "      <td>Spotify</td>\n",
       "      <td>397568</td>\n",
       "    </tr>\n",
       "    <tr>\n",
       "      <th>7</th>\n",
       "      <td>37i9dQZF1DX5LEXW9eXA0n</td>\n",
       "      <td>발라드, 려요 (K-Pop Ballad Hits)</td>\n",
       "      <td>109</td>\n",
       "      <td>spotify</td>\n",
       "      <td>Spotify</td>\n",
       "      <td>337452</td>\n",
       "    </tr>\n",
       "    <tr>\n",
       "      <th>8</th>\n",
       "      <td>1TkCnVCBt7HzhGaNzPj2Tg</td>\n",
       "      <td>80s Ballads Hits</td>\n",
       "      <td>178</td>\n",
       "      <td>sonymusicentertainment</td>\n",
       "      <td>Filtr Sweden</td>\n",
       "      <td>324210</td>\n",
       "    </tr>\n",
       "    <tr>\n",
       "      <th>9</th>\n",
       "      <td>37i9dQZF1DX7L1VcqQ1quZ</td>\n",
       "      <td>90s Ballads</td>\n",
       "      <td>50</td>\n",
       "      <td>spotify</td>\n",
       "      <td>Spotify</td>\n",
       "      <td>247270</td>\n",
       "    </tr>\n",
       "  </tbody>\n",
       "</table>\n",
       "</div>"
      ],
      "text/plain": [
       "              playlist_id                playlist_name  playlist_total_tracks  \\\n",
       "0  37i9dQZF1DWYMvTygsLWlG                 Love Ballads                    150   \n",
       "1  37i9dQZF1DWVIzZt2GAU4X                Piano Ballads                     75   \n",
       "2  37i9dQZF1DX1kydukZhLms                Metal Ballads                    110   \n",
       "3  37i9dQZF1DX82Zzp6AKx64           Rock Power Ballads                    100   \n",
       "4  37i9dQZF1DX3tuWZaHjp5y             Romantic Ballads                     50   \n",
       "5  37i9dQZF1DWXs1L3AC0Xio                 Rock Ballads                    100   \n",
       "6  37i9dQZF1DWSjwScXt3ScZ           Pinoy Love Ballads                     70   \n",
       "7  37i9dQZF1DX5LEXW9eXA0n  발라드, 려요 (K-Pop Ballad Hits)                    109   \n",
       "8  1TkCnVCBt7HzhGaNzPj2Tg             80s Ballads Hits                    178   \n",
       "9  37i9dQZF1DX7L1VcqQ1quZ                  90s Ballads                     50   \n",
       "\n",
       "                 owner_id    owner_name  total_followers  \n",
       "0                 spotify       Spotify          1889483  \n",
       "1                 spotify       Spotify          1489806  \n",
       "2                 spotify       Spotify          1079904  \n",
       "3                 spotify       Spotify          1064848  \n",
       "4                 spotify       Spotify           657963  \n",
       "5                 spotify       Spotify           622431  \n",
       "6                 spotify       Spotify           397568  \n",
       "7                 spotify       Spotify           337452  \n",
       "8  sonymusicentertainment  Filtr Sweden           324210  \n",
       "9                 spotify       Spotify           247270  "
      ]
     },
     "execution_count": 97,
     "metadata": {},
     "output_type": "execute_result"
    }
   ],
   "source": [
    "df.head(10)"
   ]
  },
  {
   "cell_type": "markdown",
   "id": "30b89b2f",
   "metadata": {},
   "source": [
    "### As  we clearly see that top 10 maximum number of \"playlist_name\" has same \"owner_name\" : Spotify"
   ]
  },
  {
   "cell_type": "markdown",
   "id": "69c9d8ce",
   "metadata": {},
   "source": [
    "----\n",
    "----"
   ]
  },
  {
   "cell_type": "code",
   "execution_count": 89,
   "id": "6c3d59dc",
   "metadata": {},
   "outputs": [
    {
     "data": {
      "text/plain": [
       "0                   Love Ballads\n",
       "1                  Piano Ballads\n",
       "2                  Metal Ballads\n",
       "3             Rock Power Ballads\n",
       "4               Romantic Ballads\n",
       "5                   Rock Ballads\n",
       "6             Pinoy Love Ballads\n",
       "7    발라드, 려요 (K-Pop Ballad Hits)\n",
       "8               80s Ballads Hits\n",
       "9                    90s Ballads\n",
       "Name: playlist_name, dtype: object"
      ]
     },
     "execution_count": 89,
     "metadata": {},
     "output_type": "execute_result"
    }
   ],
   "source": [
    "playlist_name=df[\"playlist_name\"].head(10)\n",
    "playlist_name"
   ]
  },
  {
   "cell_type": "code",
   "execution_count": 90,
   "id": "5e295cc4",
   "metadata": {},
   "outputs": [
    {
     "data": {
      "text/plain": [
       "0    1889483\n",
       "1    1489806\n",
       "2    1079904\n",
       "3    1064848\n",
       "4     657963\n",
       "5     622431\n",
       "6     397568\n",
       "7     337452\n",
       "8     324210\n",
       "9     247270\n",
       "Name: total_followers, dtype: int64"
      ]
     },
     "execution_count": 90,
     "metadata": {},
     "output_type": "execute_result"
    }
   ],
   "source": [
    "total_followers=df[\"total_followers\"].head(10)\n",
    "total_followers"
   ]
  },
  {
   "cell_type": "markdown",
   "id": "e316453b",
   "metadata": {},
   "source": [
    "### now we plot line chart for present top 10 playlist name with the respect of total number of followers"
   ]
  },
  {
   "cell_type": "code",
   "execution_count": 92,
   "id": "39ae9b36",
   "metadata": {},
   "outputs": [
    {
     "data": {
      "text/plain": [
       "[<matplotlib.lines.Line2D at 0x15c7c420f70>]"
      ]
     },
     "execution_count": 92,
     "metadata": {},
     "output_type": "execute_result"
    },
    {
     "name": "stderr",
     "output_type": "stream",
     "text": [
      "C:\\Users\\hp\\anaconda34\\lib\\site-packages\\IPython\\core\\pylabtools.py:151: UserWarning: Glyph 48156 (\\N{HANGUL SYLLABLE BAL}) missing from current font.\n",
      "  fig.canvas.print_figure(bytes_io, **kw)\n",
      "C:\\Users\\hp\\anaconda34\\lib\\site-packages\\IPython\\core\\pylabtools.py:151: UserWarning: Glyph 46972 (\\N{HANGUL SYLLABLE RA}) missing from current font.\n",
      "  fig.canvas.print_figure(bytes_io, **kw)\n",
      "C:\\Users\\hp\\anaconda34\\lib\\site-packages\\IPython\\core\\pylabtools.py:151: UserWarning: Glyph 46300 (\\N{HANGUL SYLLABLE DEU}) missing from current font.\n",
      "  fig.canvas.print_figure(bytes_io, **kw)\n",
      "C:\\Users\\hp\\anaconda34\\lib\\site-packages\\IPython\\core\\pylabtools.py:151: UserWarning: Glyph 47140 (\\N{HANGUL SYLLABLE RYEO}) missing from current font.\n",
      "  fig.canvas.print_figure(bytes_io, **kw)\n",
      "C:\\Users\\hp\\anaconda34\\lib\\site-packages\\IPython\\core\\pylabtools.py:151: UserWarning: Glyph 50836 (\\N{HANGUL SYLLABLE YO}) missing from current font.\n",
      "  fig.canvas.print_figure(bytes_io, **kw)\n"
     ]
    },
    {
     "data": {
      "image/png": "[encoded data removed]",
      "text/plain": [
       "<Figure size 720x648 with 1 Axes>"
      ]
     },
     "metadata": {
      "needs_background": "light"
     },
     "output_type": "display_data"
    }
   ],
   "source": [
    "plt.figure(figsize=(10,9))\n",
    "plt.xlabel(\"total_followers.\")\n",
    "plt.ylabel(\"playlist_name.\")\n",
    "plt.plot(total_followers,playlist_name,color=\"g\")"
   ]
  },
  {
   "cell_type": "markdown",
   "id": "f9924922",
   "metadata": {},
   "source": [
    "### as we clearly see \"Love Ballads\" playlist has highest number of follower in chart\n",
    "\n",
    "----\n",
    "----"
   ]
  },
  {
   "cell_type": "markdown",
   "id": "fd53dcb6",
   "metadata": {},
   "source": [
    "## Hear we plot a bar chat for top 5 owner name with respect to its number of playlist make by thr owner "
   ]
  },
  {
   "cell_type": "code",
   "execution_count": 98,
   "id": "1702fe3e",
   "metadata": {},
   "outputs": [
    {
     "data": {
      "text/plain": [
       "array(['Spotify', 'Filtr Sweden', 'Listanauta', 'Joar Fosså',\n",
       "       'Gustavo Thiele', 'aibiec8', 'Matt Johnson', 'Ale Comparan Suarez',\n",
       "       'Miguel De Ocampo', 'merle.wellige', 'Tonny Alves', 'n.adianafisa',\n",
       "       'bradyhalliday', 'Niklas Dreier', 'Mathias Lorentzon',\n",
       "       'Ania Reiter', 'Oliver Stahmann', 'Eric Van Heesen',\n",
       "       'Dänielle Mikæla', 'Lörnstar', '1164493236', 'Aisling C',\n",
       "       'michael_tucker2', 'mjra_', 'monixski114', 'DaltonGiberson',\n",
       "       'jonathanchou', 'jsdizoe25i3dm9yrikewcooab', 'Jim Sherrington',\n",
       "       'Monsdjho25', 'Philip Galvin', 'florian196718', 'Ashley Hoegger ',\n",
       "       'Thiên Nguyễn', 'Mandy', 'VANC', 'Melvin Johnson', 'János Günther',\n",
       "       'Patrik Rasmussen', 'Efe Bülbül', 'isabella jemal',\n",
       "       'Samantha Panchevre', 'Jc Camacho', 'ciolx', 'Digster Vietnam',\n",
       "       'drnyol', 'qwtrplx', 'jayr.dl', 'Basia Maj', 'Nicoabuda',\n",
       "       'Marcusmueller', 'janek-agaton', 'Anna Johansson',\n",
       "       'CDS OLD ACCOUNT', 'SzapS', 'Donnel Oling', 'Aicha Khodr',\n",
       "       'Beata.jurkowska', 'Aerinaeri', '렌 Swift', 'buntala', 'dctoc',\n",
       "       'Mei  C Man', 'You', 'Tomasz Grzechnik', 'Irek', 'Fred Delno',\n",
       "       'Te Joy', 'Nolyg.antazo', 'larry_agpuldo', 'Thecwby', 'Phi Long',\n",
       "       'spongepola'], dtype=object)"
      ]
     },
     "execution_count": 98,
     "metadata": {},
     "output_type": "execute_result"
    }
   ],
   "source": [
    "df[\"owner_name\"].unique()"
   ]
  },
  {
   "cell_type": "code",
   "execution_count": 102,
   "id": "c75b7fca",
   "metadata": {},
   "outputs": [],
   "source": [
    "o1=df[df[\"owner_name\"]==\"Spotify\"].shape[0]"
   ]
  },
  {
   "cell_type": "code",
   "execution_count": 103,
   "id": "25adaa6c",
   "metadata": {},
   "outputs": [],
   "source": [
    "o2=df[df[\"owner_name\"]==\"Filtr Sweden\"].shape[0]"
   ]
  },
  {
   "cell_type": "code",
   "execution_count": 104,
   "id": "0ccc510a",
   "metadata": {},
   "outputs": [],
   "source": [
    "o3=df[df[\"owner_name\"]==\"Listanauta\"].shape[0]"
   ]
  },
  {
   "cell_type": "code",
   "execution_count": 105,
   "id": "a3bad9ea",
   "metadata": {},
   "outputs": [],
   "source": [
    "o4=df[df[\"owner_name\"]==\"Joar Fosså\"].shape[0]"
   ]
  },
  {
   "cell_type": "code",
   "execution_count": 106,
   "id": "b2baa020",
   "metadata": {},
   "outputs": [],
   "source": [
    "o5=df[df[\"owner_name\"]==\"Gustavo Thiele\"].shape[0]"
   ]
  },
  {
   "cell_type": "code",
   "execution_count": 108,
   "id": "0ccc563e",
   "metadata": {},
   "outputs": [
    {
     "data": {
      "text/plain": [
       "array([22,  2,  2,  1,  1])"
      ]
     },
     "execution_count": 108,
     "metadata": {},
     "output_type": "execute_result"
    }
   ],
   "source": [
    "count=np.array([o1,o2,o3,o4,o5])\n",
    "count"
   ]
  },
  {
   "cell_type": "code",
   "execution_count": 109,
   "id": "148a1475",
   "metadata": {},
   "outputs": [
    {
     "data": {
      "text/plain": [
       "array(['Spotify', 'Filtr Sweden', 'Listanauta', 'Joar Fosså',\n",
       "       'Gustavo Thiele'], dtype='<U14')"
      ]
     },
     "execution_count": 109,
     "metadata": {},
     "output_type": "execute_result"
    }
   ],
   "source": [
    "owner=np.array(['Spotify', 'Filtr Sweden', 'Listanauta', 'Joar Fosså','Gustavo Thiele'])\n",
    "owner"
   ]
  },
  {
   "cell_type": "code",
   "execution_count": 112,
   "id": "59122f75",
   "metadata": {},
   "outputs": [
    {
     "data": {
      "text/plain": [
       "<BarContainer object of 5 artists>"
      ]
     },
     "execution_count": 112,
     "metadata": {},
     "output_type": "execute_result"
    },
    {
     "data": {
      "image/png": "[encoded data removed]",
      "text/plain": [
       "<Figure size 576x504 with 1 Axes>"
      ]
     },
     "metadata": {
      "needs_background": "light"
     },
     "output_type": "display_data"
    }
   ],
   "source": [
    "plt.figure(figsize=(8,7))\n",
    "plt.ylabel(\"count\")\n",
    "plt.xlabel(\"owner_name\")\n",
    "plt.bar(owner,count,color=\"r\")"
   ]
  },
  {
   "cell_type": "markdown",
   "id": "b0febdf5",
   "metadata": {},
   "source": [
    "### as we clearly see \"Spotify\" owned highest number of mostly followed playlist in the given bar chart.\n",
    "\n",
    "----\n",
    "----"
   ]
  },
  {
   "cell_type": "markdown",
   "id": "11421a0a",
   "metadata": {},
   "source": [
    "# Than find outliers in \"total_followers\""
   ]
  },
  {
   "cell_type": "markdown",
   "id": "ca6ee4ae",
   "metadata": {},
   "source": [
    "### -> First find outliers in the data set by IQR\n",
    "### -> Use trimming and capping to remove the outliers\n",
    "### -> After removing outliers represent data in the form distplot and boxplot"
   ]
  },
  {
   "cell_type": "code",
   "execution_count": 38,
   "id": "cec16777",
   "metadata": {},
   "outputs": [
    {
     "name": "stderr",
     "output_type": "stream",
     "text": [
      "C:\\Users\\hp\\anaconda34\\lib\\site-packages\\seaborn\\_decorators.py:36: FutureWarning: Pass the following variable as a keyword arg: x. From version 0.12, the only valid positional argument will be `data`, and passing other arguments without an explicit keyword will result in an error or misinterpretation.\n",
      "  warnings.warn(\n"
     ]
    },
    {
     "data": {
      "text/plain": [
       "<AxesSubplot:xlabel='total_followers'>"
      ]
     },
     "execution_count": 38,
     "metadata": {},
     "output_type": "execute_result"
    },
    {
     "data": {
      "image/png": "[encoded data removed]",
      "text/plain": [
       "<Figure size 432x288 with 1 Axes>"
      ]
     },
     "metadata": {
      "needs_background": "light"
     },
     "output_type": "display_data"
    }
   ],
   "source": [
    "sns.boxplot(df[\"total_followers\"])"
   ]
  },
  {
   "cell_type": "code",
   "execution_count": 48,
   "id": "00e4d0d1",
   "metadata": {},
   "outputs": [
    {
     "data": {
      "text/html": [
       "<div>\n",
       "<style scoped>\n",
       "    .dataframe tbody tr th:only-of-type {\n",
       "        vertical-align: middle;\n",
       "    }\n",
       "\n",
       "    .dataframe tbody tr th {\n",
       "        vertical-align: top;\n",
       "    }\n",
       "\n",
       "    .dataframe thead th {\n",
       "        text-align: right;\n",
       "    }\n",
       "</style>\n",
       "<table border=\"1\" class=\"dataframe\">\n",
       "  <thead>\n",
       "    <tr style=\"text-align: right;\">\n",
       "      <th></th>\n",
       "      <th>playlist_total_tracks</th>\n",
       "      <th>total_followers</th>\n",
       "    </tr>\n",
       "  </thead>\n",
       "  <tbody>\n",
       "    <tr>\n",
       "      <th>count</th>\n",
       "      <td>96.000000</td>\n",
       "      <td>9.600000e+01</td>\n",
       "    </tr>\n",
       "    <tr>\n",
       "      <th>mean</th>\n",
       "      <td>130.958333</td>\n",
       "      <td>1.007417e+05</td>\n",
       "    </tr>\n",
       "    <tr>\n",
       "      <th>std</th>\n",
       "      <td>159.419402</td>\n",
       "      <td>3.006263e+05</td>\n",
       "    </tr>\n",
       "    <tr>\n",
       "      <th>min</th>\n",
       "      <td>21.000000</td>\n",
       "      <td>5.000000e+01</td>\n",
       "    </tr>\n",
       "    <tr>\n",
       "      <th>25%</th>\n",
       "      <td>50.000000</td>\n",
       "      <td>9.297500e+02</td>\n",
       "    </tr>\n",
       "    <tr>\n",
       "      <th>50%</th>\n",
       "      <td>93.500000</td>\n",
       "      <td>1.950000e+03</td>\n",
       "    </tr>\n",
       "    <tr>\n",
       "      <th>75%</th>\n",
       "      <td>150.000000</td>\n",
       "      <td>1.437875e+04</td>\n",
       "    </tr>\n",
       "    <tr>\n",
       "      <th>max</th>\n",
       "      <td>1253.000000</td>\n",
       "      <td>1.889483e+06</td>\n",
       "    </tr>\n",
       "  </tbody>\n",
       "</table>\n",
       "</div>"
      ],
      "text/plain": [
       "       playlist_total_tracks  total_followers\n",
       "count              96.000000     9.600000e+01\n",
       "mean              130.958333     1.007417e+05\n",
       "std               159.419402     3.006263e+05\n",
       "min                21.000000     5.000000e+01\n",
       "25%                50.000000     9.297500e+02\n",
       "50%                93.500000     1.950000e+03\n",
       "75%               150.000000     1.437875e+04\n",
       "max              1253.000000     1.889483e+06"
      ]
     },
     "execution_count": 48,
     "metadata": {},
     "output_type": "execute_result"
    }
   ],
   "source": [
    "df.describe()"
   ]
  },
  {
   "cell_type": "code",
   "execution_count": 49,
   "id": "d17dacbc",
   "metadata": {},
   "outputs": [
    {
     "data": {
      "text/plain": [
       "929.75"
      ]
     },
     "execution_count": 49,
     "metadata": {},
     "output_type": "execute_result"
    }
   ],
   "source": [
    "per25=df[\"total_followers\"].quantile(0.25)\n",
    "per25"
   ]
  },
  {
   "cell_type": "code",
   "execution_count": 50,
   "id": "9b5fb534",
   "metadata": {},
   "outputs": [
    {
     "data": {
      "text/plain": [
       "14378.75"
      ]
     },
     "execution_count": 50,
     "metadata": {},
     "output_type": "execute_result"
    }
   ],
   "source": [
    "per75=df[\"total_followers\"].quantile(0.75)\n",
    "per75"
   ]
  },
  {
   "cell_type": "code",
   "execution_count": 51,
   "id": "e5424b06",
   "metadata": {},
   "outputs": [
    {
     "data": {
      "text/plain": [
       "13449.0"
      ]
     },
     "execution_count": 51,
     "metadata": {},
     "output_type": "execute_result"
    }
   ],
   "source": [
    "iqr=per75-per25\n",
    "iqr"
   ]
  },
  {
   "cell_type": "code",
   "execution_count": 52,
   "id": "4109bbbc",
   "metadata": {},
   "outputs": [
    {
     "data": {
      "text/plain": [
       "34552.25"
      ]
     },
     "execution_count": 52,
     "metadata": {},
     "output_type": "execute_result"
    }
   ],
   "source": [
    "upper_limit=per75+1.5*iqr\n",
    "upper_limit"
   ]
  },
  {
   "cell_type": "code",
   "execution_count": 53,
   "id": "07848203",
   "metadata": {},
   "outputs": [
    {
     "data": {
      "text/html": [
       "<div>\n",
       "<style scoped>\n",
       "    .dataframe tbody tr th:only-of-type {\n",
       "        vertical-align: middle;\n",
       "    }\n",
       "\n",
       "    .dataframe tbody tr th {\n",
       "        vertical-align: top;\n",
       "    }\n",
       "\n",
       "    .dataframe thead th {\n",
       "        text-align: right;\n",
       "    }\n",
       "</style>\n",
       "<table border=\"1\" class=\"dataframe\">\n",
       "  <thead>\n",
       "    <tr style=\"text-align: right;\">\n",
       "      <th></th>\n",
       "      <th>playlist_id</th>\n",
       "      <th>playlist_name</th>\n",
       "      <th>playlist_total_tracks</th>\n",
       "      <th>owner_id</th>\n",
       "      <th>owner_name</th>\n",
       "      <th>total_followers</th>\n",
       "    </tr>\n",
       "  </thead>\n",
       "  <tbody>\n",
       "    <tr>\n",
       "      <th>0</th>\n",
       "      <td>37i9dQZF1DWYMvTygsLWlG</td>\n",
       "      <td>Love Ballads</td>\n",
       "      <td>150</td>\n",
       "      <td>spotify</td>\n",
       "      <td>Spotify</td>\n",
       "      <td>1889483</td>\n",
       "    </tr>\n",
       "    <tr>\n",
       "      <th>1</th>\n",
       "      <td>37i9dQZF1DWVIzZt2GAU4X</td>\n",
       "      <td>Piano Ballads</td>\n",
       "      <td>75</td>\n",
       "      <td>spotify</td>\n",
       "      <td>Spotify</td>\n",
       "      <td>1489806</td>\n",
       "    </tr>\n",
       "    <tr>\n",
       "      <th>2</th>\n",
       "      <td>37i9dQZF1DX1kydukZhLms</td>\n",
       "      <td>Metal Ballads</td>\n",
       "      <td>110</td>\n",
       "      <td>spotify</td>\n",
       "      <td>Spotify</td>\n",
       "      <td>1079904</td>\n",
       "    </tr>\n",
       "    <tr>\n",
       "      <th>3</th>\n",
       "      <td>37i9dQZF1DX82Zzp6AKx64</td>\n",
       "      <td>Rock Power Ballads</td>\n",
       "      <td>100</td>\n",
       "      <td>spotify</td>\n",
       "      <td>Spotify</td>\n",
       "      <td>1064848</td>\n",
       "    </tr>\n",
       "    <tr>\n",
       "      <th>4</th>\n",
       "      <td>37i9dQZF1DX3tuWZaHjp5y</td>\n",
       "      <td>Romantic Ballads</td>\n",
       "      <td>50</td>\n",
       "      <td>spotify</td>\n",
       "      <td>Spotify</td>\n",
       "      <td>657963</td>\n",
       "    </tr>\n",
       "    <tr>\n",
       "      <th>5</th>\n",
       "      <td>37i9dQZF1DWXs1L3AC0Xio</td>\n",
       "      <td>Rock Ballads</td>\n",
       "      <td>100</td>\n",
       "      <td>spotify</td>\n",
       "      <td>Spotify</td>\n",
       "      <td>622431</td>\n",
       "    </tr>\n",
       "    <tr>\n",
       "      <th>6</th>\n",
       "      <td>37i9dQZF1DWSjwScXt3ScZ</td>\n",
       "      <td>Pinoy Love Ballads</td>\n",
       "      <td>70</td>\n",
       "      <td>spotify</td>\n",
       "      <td>Spotify</td>\n",
       "      <td>397568</td>\n",
       "    </tr>\n",
       "    <tr>\n",
       "      <th>7</th>\n",
       "      <td>37i9dQZF1DX5LEXW9eXA0n</td>\n",
       "      <td>발라드, 려요 (K-Pop Ballad Hits)</td>\n",
       "      <td>109</td>\n",
       "      <td>spotify</td>\n",
       "      <td>Spotify</td>\n",
       "      <td>337452</td>\n",
       "    </tr>\n",
       "    <tr>\n",
       "      <th>8</th>\n",
       "      <td>1TkCnVCBt7HzhGaNzPj2Tg</td>\n",
       "      <td>80s Ballads Hits</td>\n",
       "      <td>178</td>\n",
       "      <td>sonymusicentertainment</td>\n",
       "      <td>Filtr Sweden</td>\n",
       "      <td>324210</td>\n",
       "    </tr>\n",
       "    <tr>\n",
       "      <th>9</th>\n",
       "      <td>37i9dQZF1DX7L1VcqQ1quZ</td>\n",
       "      <td>90s Ballads</td>\n",
       "      <td>50</td>\n",
       "      <td>spotify</td>\n",
       "      <td>Spotify</td>\n",
       "      <td>247270</td>\n",
       "    </tr>\n",
       "    <tr>\n",
       "      <th>10</th>\n",
       "      <td>37i9dQZF1DXdg0VZ8UGKsU</td>\n",
       "      <td>80s Ballads</td>\n",
       "      <td>85</td>\n",
       "      <td>spotify</td>\n",
       "      <td>Spotify</td>\n",
       "      <td>238058</td>\n",
       "    </tr>\n",
       "    <tr>\n",
       "      <th>11</th>\n",
       "      <td>37i9dQZF1DX4laDTTxplAf</td>\n",
       "      <td>00s Ballads</td>\n",
       "      <td>70</td>\n",
       "      <td>spotify</td>\n",
       "      <td>Spotify</td>\n",
       "      <td>212814</td>\n",
       "    </tr>\n",
       "    <tr>\n",
       "      <th>12</th>\n",
       "      <td>37i9dQZF1DWXrcZh4Kf8Qx</td>\n",
       "      <td>70s Ballads</td>\n",
       "      <td>50</td>\n",
       "      <td>spotify</td>\n",
       "      <td>Spotify</td>\n",
       "      <td>179974</td>\n",
       "    </tr>\n",
       "    <tr>\n",
       "      <th>13</th>\n",
       "      <td>37i9dQZF1DX2baJMpwgH2W</td>\n",
       "      <td>Ballads From The Musicals</td>\n",
       "      <td>50</td>\n",
       "      <td>spotify</td>\n",
       "      <td>Spotify</td>\n",
       "      <td>155578</td>\n",
       "    </tr>\n",
       "    <tr>\n",
       "      <th>14</th>\n",
       "      <td>37i9dQZF1DXaFm6IhSHlyi</td>\n",
       "      <td>Ballads International</td>\n",
       "      <td>150</td>\n",
       "      <td>spotify</td>\n",
       "      <td>Spotify</td>\n",
       "      <td>131968</td>\n",
       "    </tr>\n",
       "    <tr>\n",
       "      <th>15</th>\n",
       "      <td>37i9dQZF1DX3xgbKZSVZNH</td>\n",
       "      <td>Power Ballads</td>\n",
       "      <td>50</td>\n",
       "      <td>spotify</td>\n",
       "      <td>Spotify</td>\n",
       "      <td>127417</td>\n",
       "    </tr>\n",
       "    <tr>\n",
       "      <th>16</th>\n",
       "      <td>37i9dQZF1DWVAWtyHQImlQ</td>\n",
       "      <td>60s Ballads</td>\n",
       "      <td>50</td>\n",
       "      <td>spotify</td>\n",
       "      <td>Spotify</td>\n",
       "      <td>107889</td>\n",
       "    </tr>\n",
       "    <tr>\n",
       "      <th>17</th>\n",
       "      <td>37i9dQZF1DXanyN6gWJKDe</td>\n",
       "      <td>De største ballader</td>\n",
       "      <td>133</td>\n",
       "      <td>spotify</td>\n",
       "      <td>Spotify</td>\n",
       "      <td>38599</td>\n",
       "    </tr>\n",
       "    <tr>\n",
       "      <th>18</th>\n",
       "      <td>37i9dQZF1DX7fEiwpooXwB</td>\n",
       "      <td>Jazz Ballads</td>\n",
       "      <td>100</td>\n",
       "      <td>spotify</td>\n",
       "      <td>Spotify</td>\n",
       "      <td>37808</td>\n",
       "    </tr>\n",
       "  </tbody>\n",
       "</table>\n",
       "</div>"
      ],
      "text/plain": [
       "               playlist_id                playlist_name  \\\n",
       "0   37i9dQZF1DWYMvTygsLWlG                 Love Ballads   \n",
       "1   37i9dQZF1DWVIzZt2GAU4X                Piano Ballads   \n",
       "2   37i9dQZF1DX1kydukZhLms                Metal Ballads   \n",
       "3   37i9dQZF1DX82Zzp6AKx64           Rock Power Ballads   \n",
       "4   37i9dQZF1DX3tuWZaHjp5y             Romantic Ballads   \n",
       "5   37i9dQZF1DWXs1L3AC0Xio                 Rock Ballads   \n",
       "6   37i9dQZF1DWSjwScXt3ScZ           Pinoy Love Ballads   \n",
       "7   37i9dQZF1DX5LEXW9eXA0n  발라드, 려요 (K-Pop Ballad Hits)   \n",
       "8   1TkCnVCBt7HzhGaNzPj2Tg             80s Ballads Hits   \n",
       "9   37i9dQZF1DX7L1VcqQ1quZ                  90s Ballads   \n",
       "10  37i9dQZF1DXdg0VZ8UGKsU                  80s Ballads   \n",
       "11  37i9dQZF1DX4laDTTxplAf                  00s Ballads   \n",
       "12  37i9dQZF1DWXrcZh4Kf8Qx                  70s Ballads   \n",
       "13  37i9dQZF1DX2baJMpwgH2W    Ballads From The Musicals   \n",
       "14  37i9dQZF1DXaFm6IhSHlyi        Ballads International   \n",
       "15  37i9dQZF1DX3xgbKZSVZNH                Power Ballads   \n",
       "16  37i9dQZF1DWVAWtyHQImlQ                  60s Ballads   \n",
       "17  37i9dQZF1DXanyN6gWJKDe          De største ballader   \n",
       "18  37i9dQZF1DX7fEiwpooXwB                 Jazz Ballads   \n",
       "\n",
       "    playlist_total_tracks                owner_id    owner_name  \\\n",
       "0                     150                 spotify       Spotify   \n",
       "1                      75                 spotify       Spotify   \n",
       "2                     110                 spotify       Spotify   \n",
       "3                     100                 spotify       Spotify   \n",
       "4                      50                 spotify       Spotify   \n",
       "5                     100                 spotify       Spotify   \n",
       "6                      70                 spotify       Spotify   \n",
       "7                     109                 spotify       Spotify   \n",
       "8                     178  sonymusicentertainment  Filtr Sweden   \n",
       "9                      50                 spotify       Spotify   \n",
       "10                     85                 spotify       Spotify   \n",
       "11                     70                 spotify       Spotify   \n",
       "12                     50                 spotify       Spotify   \n",
       "13                     50                 spotify       Spotify   \n",
       "14                    150                 spotify       Spotify   \n",
       "15                     50                 spotify       Spotify   \n",
       "16                     50                 spotify       Spotify   \n",
       "17                    133                 spotify       Spotify   \n",
       "18                    100                 spotify       Spotify   \n",
       "\n",
       "    total_followers  \n",
       "0           1889483  \n",
       "1           1489806  \n",
       "2           1079904  \n",
       "3           1064848  \n",
       "4            657963  \n",
       "5            622431  \n",
       "6            397568  \n",
       "7            337452  \n",
       "8            324210  \n",
       "9            247270  \n",
       "10           238058  \n",
       "11           212814  \n",
       "12           179974  \n",
       "13           155578  \n",
       "14           131968  \n",
       "15           127417  \n",
       "16           107889  \n",
       "17            38599  \n",
       "18            37808  "
      ]
     },
     "execution_count": 53,
     "metadata": {},
     "output_type": "execute_result"
    }
   ],
   "source": [
    "a=df[df[\"total_followers\"]>upper_limit]\n",
    "a"
   ]
  },
  {
   "cell_type": "code",
   "execution_count": 54,
   "id": "6593403c",
   "metadata": {},
   "outputs": [
    {
     "data": {
      "text/plain": [
       "-19243.75"
      ]
     },
     "execution_count": 54,
     "metadata": {},
     "output_type": "execute_result"
    }
   ],
   "source": [
    "lower_limit=per25-1.5*iqr\n",
    "lower_limit"
   ]
  },
  {
   "cell_type": "code",
   "execution_count": 66,
   "id": "28212482",
   "metadata": {},
   "outputs": [
    {
     "data": {
      "text/html": [
       "<div>\n",
       "<style scoped>\n",
       "    .dataframe tbody tr th:only-of-type {\n",
       "        vertical-align: middle;\n",
       "    }\n",
       "\n",
       "    .dataframe tbody tr th {\n",
       "        vertical-align: top;\n",
       "    }\n",
       "\n",
       "    .dataframe thead th {\n",
       "        text-align: right;\n",
       "    }\n",
       "</style>\n",
       "<table border=\"1\" class=\"dataframe\">\n",
       "  <thead>\n",
       "    <tr style=\"text-align: right;\">\n",
       "      <th></th>\n",
       "      <th>playlist_id</th>\n",
       "      <th>playlist_name</th>\n",
       "      <th>playlist_total_tracks</th>\n",
       "      <th>owner_id</th>\n",
       "      <th>owner_name</th>\n",
       "      <th>total_followers</th>\n",
       "    </tr>\n",
       "  </thead>\n",
       "  <tbody>\n",
       "  </tbody>\n",
       "</table>\n",
       "</div>"
      ],
      "text/plain": [
       "Empty DataFrame\n",
       "Columns: [playlist_id, playlist_name, playlist_total_tracks, owner_id, owner_name, total_followers]\n",
       "Index: []"
      ]
     },
     "execution_count": 66,
     "metadata": {},
     "output_type": "execute_result"
    }
   ],
   "source": [
    "b=df[df[\"total_followers\"]<lower_limit]\n",
    "b"
   ]
  },
  {
   "cell_type": "markdown",
   "id": "037caedd",
   "metadata": {},
   "source": [
    "## trimming "
   ]
  },
  {
   "cell_type": "code",
   "execution_count": 56,
   "id": "d38669f1",
   "metadata": {},
   "outputs": [
    {
     "data": {
      "text/html": [
       "<div>\n",
       "<style scoped>\n",
       "    .dataframe tbody tr th:only-of-type {\n",
       "        vertical-align: middle;\n",
       "    }\n",
       "\n",
       "    .dataframe tbody tr th {\n",
       "        vertical-align: top;\n",
       "    }\n",
       "\n",
       "    .dataframe thead th {\n",
       "        text-align: right;\n",
       "    }\n",
       "</style>\n",
       "<table border=\"1\" class=\"dataframe\">\n",
       "  <thead>\n",
       "    <tr style=\"text-align: right;\">\n",
       "      <th></th>\n",
       "      <th>playlist_id</th>\n",
       "      <th>playlist_name</th>\n",
       "      <th>playlist_total_tracks</th>\n",
       "      <th>owner_id</th>\n",
       "      <th>owner_name</th>\n",
       "      <th>total_followers</th>\n",
       "    </tr>\n",
       "  </thead>\n",
       "  <tbody>\n",
       "    <tr>\n",
       "      <th>19</th>\n",
       "      <td>3zB70HlxyT5f7wObAKSYqe</td>\n",
       "      <td>Slow Rock Songs 70s 80s 90s | Best Slow Rock L...</td>\n",
       "      <td>55</td>\n",
       "      <td>listanauta</td>\n",
       "      <td>Listanauta</td>\n",
       "      <td>33116</td>\n",
       "    </tr>\n",
       "    <tr>\n",
       "      <th>20</th>\n",
       "      <td>4LvF1pNeM6XDK9IojLALKb</td>\n",
       "      <td>Blues Ballads/ Slow Blues</td>\n",
       "      <td>381</td>\n",
       "      <td>6y24urmtnizh9q2osg5j7d73u</td>\n",
       "      <td>Joar Fosså</td>\n",
       "      <td>32400</td>\n",
       "    </tr>\n",
       "    <tr>\n",
       "      <th>21</th>\n",
       "      <td>4T75fQJbyBh8xXBVi1Hv4K</td>\n",
       "      <td>Greatest Rock Ballads</td>\n",
       "      <td>188</td>\n",
       "      <td>carlosabreu666</td>\n",
       "      <td>Gustavo Thiele</td>\n",
       "      <td>29829</td>\n",
       "    </tr>\n",
       "    <tr>\n",
       "      <th>22</th>\n",
       "      <td>5xLbtujmZBZAMI7HJFj6if</td>\n",
       "      <td>Rock ballads - Slow Rock - Power Ballads - Sof...</td>\n",
       "      <td>150</td>\n",
       "      <td>aibiec8</td>\n",
       "      <td>aibiec8</td>\n",
       "      <td>16767</td>\n",
       "    </tr>\n",
       "    <tr>\n",
       "      <th>23</th>\n",
       "      <td>37i9dQZF1DX95cHZADEj06</td>\n",
       "      <td>Bara ballader</td>\n",
       "      <td>100</td>\n",
       "      <td>spotify</td>\n",
       "      <td>Spotify</td>\n",
       "      <td>15131</td>\n",
       "    </tr>\n",
       "    <tr>\n",
       "      <th>...</th>\n",
       "      <td>...</td>\n",
       "      <td>...</td>\n",
       "      <td>...</td>\n",
       "      <td>...</td>\n",
       "      <td>...</td>\n",
       "      <td>...</td>\n",
       "    </tr>\n",
       "    <tr>\n",
       "      <th>91</th>\n",
       "      <td>7x6t64n9b8jovxeuhqWALO</td>\n",
       "      <td>Ballade Pour Adeline</td>\n",
       "      <td>52</td>\n",
       "      <td>1yj777e0qp6f0kjxxugknp4bv</td>\n",
       "      <td>Nolyg.antazo</td>\n",
       "      <td>207</td>\n",
       "    </tr>\n",
       "    <tr>\n",
       "      <th>92</th>\n",
       "      <td>0dqKlgxkoa62Oqv7qsarzN</td>\n",
       "      <td>Ballad for Adeline</td>\n",
       "      <td>23</td>\n",
       "      <td>larry_agpuldo</td>\n",
       "      <td>larry_agpuldo</td>\n",
       "      <td>149</td>\n",
       "    </tr>\n",
       "    <tr>\n",
       "      <th>93</th>\n",
       "      <td>6gtrxyKSJ2Kl9awP9hzT9Y</td>\n",
       "      <td>Ballads of a Gunfighter</td>\n",
       "      <td>36</td>\n",
       "      <td>coop-9</td>\n",
       "      <td>Thecwby</td>\n",
       "      <td>83</td>\n",
       "    </tr>\n",
       "    <tr>\n",
       "      <th>94</th>\n",
       "      <td>1QbcH0cB4Al03QWLVdRJM5</td>\n",
       "      <td>Ballad nhẹ nhàng ❤️</td>\n",
       "      <td>37</td>\n",
       "      <td>31czfojrz3j3t3srjyscc62ce534</td>\n",
       "      <td>Phi Long</td>\n",
       "      <td>76</td>\n",
       "    </tr>\n",
       "    <tr>\n",
       "      <th>95</th>\n",
       "      <td>6gEZjGHE6Ot9pBz3Z0jir3</td>\n",
       "      <td>Ballads &amp; Love Songs</td>\n",
       "      <td>317</td>\n",
       "      <td>spongepola</td>\n",
       "      <td>spongepola</td>\n",
       "      <td>50</td>\n",
       "    </tr>\n",
       "  </tbody>\n",
       "</table>\n",
       "<p>77 rows × 6 columns</p>\n",
       "</div>"
      ],
      "text/plain": [
       "               playlist_id                                      playlist_name  \\\n",
       "19  3zB70HlxyT5f7wObAKSYqe  Slow Rock Songs 70s 80s 90s | Best Slow Rock L...   \n",
       "20  4LvF1pNeM6XDK9IojLALKb                          Blues Ballads/ Slow Blues   \n",
       "21  4T75fQJbyBh8xXBVi1Hv4K                              Greatest Rock Ballads   \n",
       "22  5xLbtujmZBZAMI7HJFj6if  Rock ballads - Slow Rock - Power Ballads - Sof...   \n",
       "23  37i9dQZF1DX95cHZADEj06                                      Bara ballader   \n",
       "..                     ...                                                ...   \n",
       "91  7x6t64n9b8jovxeuhqWALO                               Ballade Pour Adeline   \n",
       "92  0dqKlgxkoa62Oqv7qsarzN                                 Ballad for Adeline   \n",
       "93  6gtrxyKSJ2Kl9awP9hzT9Y                            Ballads of a Gunfighter   \n",
       "94  1QbcH0cB4Al03QWLVdRJM5                                Ballad nhẹ nhàng ❤️   \n",
       "95  6gEZjGHE6Ot9pBz3Z0jir3                               Ballads & Love Songs   \n",
       "\n",
       "    playlist_total_tracks                      owner_id      owner_name  \\\n",
       "19                     55                    listanauta      Listanauta   \n",
       "20                    381     6y24urmtnizh9q2osg5j7d73u      Joar Fosså   \n",
       "21                    188                carlosabreu666  Gustavo Thiele   \n",
       "22                    150                       aibiec8         aibiec8   \n",
       "23                    100                       spotify         Spotify   \n",
       "..                    ...                           ...             ...   \n",
       "91                     52     1yj777e0qp6f0kjxxugknp4bv    Nolyg.antazo   \n",
       "92                     23                 larry_agpuldo   larry_agpuldo   \n",
       "93                     36                        coop-9         Thecwby   \n",
       "94                     37  31czfojrz3j3t3srjyscc62ce534        Phi Long   \n",
       "95                    317                    spongepola      spongepola   \n",
       "\n",
       "    total_followers  \n",
       "19            33116  \n",
       "20            32400  \n",
       "21            29829  \n",
       "22            16767  \n",
       "23            15131  \n",
       "..              ...  \n",
       "91              207  \n",
       "92              149  \n",
       "93               83  \n",
       "94               76  \n",
       "95               50  \n",
       "\n",
       "[77 rows x 6 columns]"
      ]
     },
     "execution_count": 56,
     "metadata": {},
     "output_type": "execute_result"
    }
   ],
   "source": [
    "df2=df[(df[\"total_followers\"]<=upper_limit)]\n",
    "df2"
   ]
  },
  {
   "cell_type": "code",
   "execution_count": 57,
   "id": "4901d149",
   "metadata": {},
   "outputs": [
    {
     "name": "stderr",
     "output_type": "stream",
     "text": [
      "C:\\Users\\hp\\anaconda34\\lib\\site-packages\\seaborn\\distributions.py:2619: FutureWarning: `distplot` is a deprecated function and will be removed in a future version. Please adapt your code to use either `displot` (a figure-level function with similar flexibility) or `histplot` (an axes-level function for histograms).\n",
      "  warnings.warn(msg, FutureWarning)\n"
     ]
    },
    {
     "data": {
      "text/plain": [
       "<AxesSubplot:xlabel='total_followers', ylabel='Density'>"
      ]
     },
     "execution_count": 57,
     "metadata": {},
     "output_type": "execute_result"
    },
    {
     "data": {
      "image/png": "[encoded data removed]",
      "text/plain": [
       "<Figure size 432x288 with 1 Axes>"
      ]
     },
     "metadata": {
      "needs_background": "light"
     },
     "output_type": "display_data"
    }
   ],
   "source": [
    "sns.distplot(df2[\"total_followers\"])"
   ]
  },
  {
   "cell_type": "code",
   "execution_count": 68,
   "id": "d0c0f94f",
   "metadata": {},
   "outputs": [
    {
     "name": "stderr",
     "output_type": "stream",
     "text": [
      "C:\\Users\\hp\\anaconda34\\lib\\site-packages\\seaborn\\_decorators.py:36: FutureWarning: Pass the following variable as a keyword arg: x. From version 0.12, the only valid positional argument will be `data`, and passing other arguments without an explicit keyword will result in an error or misinterpretation.\n",
      "  warnings.warn(\n"
     ]
    },
    {
     "data": {
      "text/plain": [
       "<AxesSubplot:xlabel='total_followers'>"
      ]
     },
     "execution_count": 68,
     "metadata": {},
     "output_type": "execute_result"
    },
    {
     "data": {
      "image/png": "[encoded data removed]",
      "text/plain": [
       "<Figure size 432x288 with 1 Axes>"
      ]
     },
     "metadata": {
      "needs_background": "light"
     },
     "output_type": "display_data"
    }
   ],
   "source": [
    "sns.boxplot(df2[\"total_followers\"])"
   ]
  },
  {
   "cell_type": "markdown",
   "id": "863e92da",
   "metadata": {},
   "source": [
    "## capping"
   ]
  },
  {
   "cell_type": "code",
   "execution_count": 62,
   "id": "672ed95c",
   "metadata": {},
   "outputs": [
    {
     "data": {
      "text/plain": [
       "1002620.5748594982"
      ]
     },
     "execution_count": 62,
     "metadata": {},
     "output_type": "execute_result"
    }
   ],
   "source": [
    "i=df[\"total_followers\"].mean() + 3 *df[\"total_followers\"].std()\n",
    "i"
   ]
  },
  {
   "cell_type": "code",
   "execution_count": 63,
   "id": "13568740",
   "metadata": {},
   "outputs": [
    {
     "data": {
      "text/plain": [
       "-801137.2415261649"
      ]
     },
     "execution_count": 63,
     "metadata": {},
     "output_type": "execute_result"
    }
   ],
   "source": [
    "p=df[\"total_followers\"].mean() - 3 *df[\"total_followers\"].std()\n",
    "p"
   ]
  },
  {
   "cell_type": "code",
   "execution_count": 77,
   "id": "af91108e",
   "metadata": {},
   "outputs": [
    {
     "data": {
      "text/html": [
       "<div>\n",
       "<style scoped>\n",
       "    .dataframe tbody tr th:only-of-type {\n",
       "        vertical-align: middle;\n",
       "    }\n",
       "\n",
       "    .dataframe tbody tr th {\n",
       "        vertical-align: top;\n",
       "    }\n",
       "\n",
       "    .dataframe thead th {\n",
       "        text-align: right;\n",
       "    }\n",
       "</style>\n",
       "<table border=\"1\" class=\"dataframe\">\n",
       "  <thead>\n",
       "    <tr style=\"text-align: right;\">\n",
       "      <th></th>\n",
       "      <th>playlist_id</th>\n",
       "      <th>playlist_name</th>\n",
       "      <th>playlist_total_tracks</th>\n",
       "      <th>owner_id</th>\n",
       "      <th>owner_name</th>\n",
       "      <th>total_followers</th>\n",
       "    </tr>\n",
       "  </thead>\n",
       "  <tbody>\n",
       "    <tr>\n",
       "      <th>0</th>\n",
       "      <td>37i9dQZF1DWYMvTygsLWlG</td>\n",
       "      <td>Love Ballads</td>\n",
       "      <td>150</td>\n",
       "      <td>spotify</td>\n",
       "      <td>Spotify</td>\n",
       "      <td>1889483</td>\n",
       "    </tr>\n",
       "    <tr>\n",
       "      <th>1</th>\n",
       "      <td>37i9dQZF1DWVIzZt2GAU4X</td>\n",
       "      <td>Piano Ballads</td>\n",
       "      <td>75</td>\n",
       "      <td>spotify</td>\n",
       "      <td>Spotify</td>\n",
       "      <td>1489806</td>\n",
       "    </tr>\n",
       "    <tr>\n",
       "      <th>2</th>\n",
       "      <td>37i9dQZF1DX1kydukZhLms</td>\n",
       "      <td>Metal Ballads</td>\n",
       "      <td>110</td>\n",
       "      <td>spotify</td>\n",
       "      <td>Spotify</td>\n",
       "      <td>1079904</td>\n",
       "    </tr>\n",
       "    <tr>\n",
       "      <th>3</th>\n",
       "      <td>37i9dQZF1DX82Zzp6AKx64</td>\n",
       "      <td>Rock Power Ballads</td>\n",
       "      <td>100</td>\n",
       "      <td>spotify</td>\n",
       "      <td>Spotify</td>\n",
       "      <td>1064848</td>\n",
       "    </tr>\n",
       "    <tr>\n",
       "      <th>4</th>\n",
       "      <td>37i9dQZF1DX3tuWZaHjp5y</td>\n",
       "      <td>Romantic Ballads</td>\n",
       "      <td>50</td>\n",
       "      <td>spotify</td>\n",
       "      <td>Spotify</td>\n",
       "      <td>657963</td>\n",
       "    </tr>\n",
       "    <tr>\n",
       "      <th>...</th>\n",
       "      <td>...</td>\n",
       "      <td>...</td>\n",
       "      <td>...</td>\n",
       "      <td>...</td>\n",
       "      <td>...</td>\n",
       "      <td>...</td>\n",
       "    </tr>\n",
       "    <tr>\n",
       "      <th>91</th>\n",
       "      <td>7x6t64n9b8jovxeuhqWALO</td>\n",
       "      <td>Ballade Pour Adeline</td>\n",
       "      <td>52</td>\n",
       "      <td>1yj777e0qp6f0kjxxugknp4bv</td>\n",
       "      <td>Nolyg.antazo</td>\n",
       "      <td>207</td>\n",
       "    </tr>\n",
       "    <tr>\n",
       "      <th>92</th>\n",
       "      <td>0dqKlgxkoa62Oqv7qsarzN</td>\n",
       "      <td>Ballad for Adeline</td>\n",
       "      <td>23</td>\n",
       "      <td>larry_agpuldo</td>\n",
       "      <td>larry_agpuldo</td>\n",
       "      <td>149</td>\n",
       "    </tr>\n",
       "    <tr>\n",
       "      <th>93</th>\n",
       "      <td>6gtrxyKSJ2Kl9awP9hzT9Y</td>\n",
       "      <td>Ballads of a Gunfighter</td>\n",
       "      <td>36</td>\n",
       "      <td>coop-9</td>\n",
       "      <td>Thecwby</td>\n",
       "      <td>83</td>\n",
       "    </tr>\n",
       "    <tr>\n",
       "      <th>94</th>\n",
       "      <td>1QbcH0cB4Al03QWLVdRJM5</td>\n",
       "      <td>Ballad nhẹ nhàng ❤️</td>\n",
       "      <td>37</td>\n",
       "      <td>31czfojrz3j3t3srjyscc62ce534</td>\n",
       "      <td>Phi Long</td>\n",
       "      <td>76</td>\n",
       "    </tr>\n",
       "    <tr>\n",
       "      <th>95</th>\n",
       "      <td>6gEZjGHE6Ot9pBz3Z0jir3</td>\n",
       "      <td>Ballads &amp; Love Songs</td>\n",
       "      <td>317</td>\n",
       "      <td>spongepola</td>\n",
       "      <td>spongepola</td>\n",
       "      <td>50</td>\n",
       "    </tr>\n",
       "  </tbody>\n",
       "</table>\n",
       "<p>96 rows × 6 columns</p>\n",
       "</div>"
      ],
      "text/plain": [
       "               playlist_id            playlist_name  playlist_total_tracks  \\\n",
       "0   37i9dQZF1DWYMvTygsLWlG             Love Ballads                    150   \n",
       "1   37i9dQZF1DWVIzZt2GAU4X            Piano Ballads                     75   \n",
       "2   37i9dQZF1DX1kydukZhLms            Metal Ballads                    110   \n",
       "3   37i9dQZF1DX82Zzp6AKx64       Rock Power Ballads                    100   \n",
       "4   37i9dQZF1DX3tuWZaHjp5y         Romantic Ballads                     50   \n",
       "..                     ...                      ...                    ...   \n",
       "91  7x6t64n9b8jovxeuhqWALO     Ballade Pour Adeline                     52   \n",
       "92  0dqKlgxkoa62Oqv7qsarzN       Ballad for Adeline                     23   \n",
       "93  6gtrxyKSJ2Kl9awP9hzT9Y  Ballads of a Gunfighter                     36   \n",
       "94  1QbcH0cB4Al03QWLVdRJM5      Ballad nhẹ nhàng ❤️                     37   \n",
       "95  6gEZjGHE6Ot9pBz3Z0jir3     Ballads & Love Songs                    317   \n",
       "\n",
       "                        owner_id     owner_name  total_followers  \n",
       "0                        spotify        Spotify          1889483  \n",
       "1                        spotify        Spotify          1489806  \n",
       "2                        spotify        Spotify          1079904  \n",
       "3                        spotify        Spotify          1064848  \n",
       "4                        spotify        Spotify           657963  \n",
       "..                           ...            ...              ...  \n",
       "91     1yj777e0qp6f0kjxxugknp4bv   Nolyg.antazo              207  \n",
       "92                 larry_agpuldo  larry_agpuldo              149  \n",
       "93                        coop-9        Thecwby               83  \n",
       "94  31czfojrz3j3t3srjyscc62ce534       Phi Long               76  \n",
       "95                    spongepola     spongepola               50  \n",
       "\n",
       "[96 rows x 6 columns]"
      ]
     },
     "execution_count": 77,
     "metadata": {},
     "output_type": "execute_result"
    }
   ],
   "source": [
    "df1=pd.read_csv(r\"C:\\Users\\hp\\Desktop\\others\\cetpa\\archive (4)\\ballad_playlist_data.csv\")\n",
    "df1"
   ]
  },
  {
   "cell_type": "code",
   "execution_count": 78,
   "id": "721e9323",
   "metadata": {},
   "outputs": [
    {
     "data": {
      "text/html": [
       "<div>\n",
       "<style scoped>\n",
       "    .dataframe tbody tr th:only-of-type {\n",
       "        vertical-align: middle;\n",
       "    }\n",
       "\n",
       "    .dataframe tbody tr th {\n",
       "        vertical-align: top;\n",
       "    }\n",
       "\n",
       "    .dataframe thead th {\n",
       "        text-align: right;\n",
       "    }\n",
       "</style>\n",
       "<table border=\"1\" class=\"dataframe\">\n",
       "  <thead>\n",
       "    <tr style=\"text-align: right;\">\n",
       "      <th></th>\n",
       "      <th>playlist_id</th>\n",
       "      <th>playlist_name</th>\n",
       "      <th>playlist_total_tracks</th>\n",
       "      <th>owner_id</th>\n",
       "      <th>owner_name</th>\n",
       "      <th>total_followers</th>\n",
       "    </tr>\n",
       "  </thead>\n",
       "  <tbody>\n",
       "    <tr>\n",
       "      <th>0</th>\n",
       "      <td>37i9dQZF1DWYMvTygsLWlG</td>\n",
       "      <td>Love Ballads</td>\n",
       "      <td>150</td>\n",
       "      <td>spotify</td>\n",
       "      <td>Spotify</td>\n",
       "      <td>1.002621e+06</td>\n",
       "    </tr>\n",
       "    <tr>\n",
       "      <th>1</th>\n",
       "      <td>37i9dQZF1DWVIzZt2GAU4X</td>\n",
       "      <td>Piano Ballads</td>\n",
       "      <td>75</td>\n",
       "      <td>spotify</td>\n",
       "      <td>Spotify</td>\n",
       "      <td>1.002621e+06</td>\n",
       "    </tr>\n",
       "    <tr>\n",
       "      <th>2</th>\n",
       "      <td>37i9dQZF1DX1kydukZhLms</td>\n",
       "      <td>Metal Ballads</td>\n",
       "      <td>110</td>\n",
       "      <td>spotify</td>\n",
       "      <td>Spotify</td>\n",
       "      <td>1.002621e+06</td>\n",
       "    </tr>\n",
       "    <tr>\n",
       "      <th>3</th>\n",
       "      <td>37i9dQZF1DX82Zzp6AKx64</td>\n",
       "      <td>Rock Power Ballads</td>\n",
       "      <td>100</td>\n",
       "      <td>spotify</td>\n",
       "      <td>Spotify</td>\n",
       "      <td>1.002621e+06</td>\n",
       "    </tr>\n",
       "    <tr>\n",
       "      <th>4</th>\n",
       "      <td>37i9dQZF1DX3tuWZaHjp5y</td>\n",
       "      <td>Romantic Ballads</td>\n",
       "      <td>50</td>\n",
       "      <td>spotify</td>\n",
       "      <td>Spotify</td>\n",
       "      <td>6.579630e+05</td>\n",
       "    </tr>\n",
       "    <tr>\n",
       "      <th>...</th>\n",
       "      <td>...</td>\n",
       "      <td>...</td>\n",
       "      <td>...</td>\n",
       "      <td>...</td>\n",
       "      <td>...</td>\n",
       "      <td>...</td>\n",
       "    </tr>\n",
       "    <tr>\n",
       "      <th>91</th>\n",
       "      <td>7x6t64n9b8jovxeuhqWALO</td>\n",
       "      <td>Ballade Pour Adeline</td>\n",
       "      <td>52</td>\n",
       "      <td>1yj777e0qp6f0kjxxugknp4bv</td>\n",
       "      <td>Nolyg.antazo</td>\n",
       "      <td>2.070000e+02</td>\n",
       "    </tr>\n",
       "    <tr>\n",
       "      <th>92</th>\n",
       "      <td>0dqKlgxkoa62Oqv7qsarzN</td>\n",
       "      <td>Ballad for Adeline</td>\n",
       "      <td>23</td>\n",
       "      <td>larry_agpuldo</td>\n",
       "      <td>larry_agpuldo</td>\n",
       "      <td>1.490000e+02</td>\n",
       "    </tr>\n",
       "    <tr>\n",
       "      <th>93</th>\n",
       "      <td>6gtrxyKSJ2Kl9awP9hzT9Y</td>\n",
       "      <td>Ballads of a Gunfighter</td>\n",
       "      <td>36</td>\n",
       "      <td>coop-9</td>\n",
       "      <td>Thecwby</td>\n",
       "      <td>8.300000e+01</td>\n",
       "    </tr>\n",
       "    <tr>\n",
       "      <th>94</th>\n",
       "      <td>1QbcH0cB4Al03QWLVdRJM5</td>\n",
       "      <td>Ballad nhẹ nhàng ❤️</td>\n",
       "      <td>37</td>\n",
       "      <td>31czfojrz3j3t3srjyscc62ce534</td>\n",
       "      <td>Phi Long</td>\n",
       "      <td>7.600000e+01</td>\n",
       "    </tr>\n",
       "    <tr>\n",
       "      <th>95</th>\n",
       "      <td>6gEZjGHE6Ot9pBz3Z0jir3</td>\n",
       "      <td>Ballads &amp; Love Songs</td>\n",
       "      <td>317</td>\n",
       "      <td>spongepola</td>\n",
       "      <td>spongepola</td>\n",
       "      <td>5.000000e+01</td>\n",
       "    </tr>\n",
       "  </tbody>\n",
       "</table>\n",
       "<p>96 rows × 6 columns</p>\n",
       "</div>"
      ],
      "text/plain": [
       "               playlist_id            playlist_name  playlist_total_tracks  \\\n",
       "0   37i9dQZF1DWYMvTygsLWlG             Love Ballads                    150   \n",
       "1   37i9dQZF1DWVIzZt2GAU4X            Piano Ballads                     75   \n",
       "2   37i9dQZF1DX1kydukZhLms            Metal Ballads                    110   \n",
       "3   37i9dQZF1DX82Zzp6AKx64       Rock Power Ballads                    100   \n",
       "4   37i9dQZF1DX3tuWZaHjp5y         Romantic Ballads                     50   \n",
       "..                     ...                      ...                    ...   \n",
       "91  7x6t64n9b8jovxeuhqWALO     Ballade Pour Adeline                     52   \n",
       "92  0dqKlgxkoa62Oqv7qsarzN       Ballad for Adeline                     23   \n",
       "93  6gtrxyKSJ2Kl9awP9hzT9Y  Ballads of a Gunfighter                     36   \n",
       "94  1QbcH0cB4Al03QWLVdRJM5      Ballad nhẹ nhàng ❤️                     37   \n",
       "95  6gEZjGHE6Ot9pBz3Z0jir3     Ballads & Love Songs                    317   \n",
       "\n",
       "                        owner_id     owner_name  total_followers  \n",
       "0                        spotify        Spotify     1.002621e+06  \n",
       "1                        spotify        Spotify     1.002621e+06  \n",
       "2                        spotify        Spotify     1.002621e+06  \n",
       "3                        spotify        Spotify     1.002621e+06  \n",
       "4                        spotify        Spotify     6.579630e+05  \n",
       "..                           ...            ...              ...  \n",
       "91     1yj777e0qp6f0kjxxugknp4bv   Nolyg.antazo     2.070000e+02  \n",
       "92                 larry_agpuldo  larry_agpuldo     1.490000e+02  \n",
       "93                        coop-9        Thecwby     8.300000e+01  \n",
       "94  31czfojrz3j3t3srjyscc62ce534       Phi Long     7.600000e+01  \n",
       "95                    spongepola     spongepola     5.000000e+01  \n",
       "\n",
       "[96 rows x 6 columns]"
      ]
     },
     "execution_count": 78,
     "metadata": {},
     "output_type": "execute_result"
    }
   ],
   "source": [
    "df1[\"total_followers\"]=np.where(df1[\"total_followers\"]>i,i,np.where(df1[\"total_followers\"]<p,p,df1[\"total_followers\"]))\n",
    "df1"
   ]
  },
  {
   "cell_type": "code",
   "execution_count": 79,
   "id": "9acbd585",
   "metadata": {},
   "outputs": [
    {
     "name": "stderr",
     "output_type": "stream",
     "text": [
      "C:\\Users\\hp\\anaconda34\\lib\\site-packages\\seaborn\\distributions.py:2619: FutureWarning: `distplot` is a deprecated function and will be removed in a future version. Please adapt your code to use either `displot` (a figure-level function with similar flexibility) or `histplot` (an axes-level function for histograms).\n",
      "  warnings.warn(msg, FutureWarning)\n"
     ]
    },
    {
     "data": {
      "text/plain": [
       "<AxesSubplot:xlabel='total_followers', ylabel='Density'>"
      ]
     },
     "execution_count": 79,
     "metadata": {},
     "output_type": "execute_result"
    },
    {
     "data": {
      "image/png": "[encoded data removed]",
      "text/plain": [
       "<Figure size 432x288 with 1 Axes>"
      ]
     },
     "metadata": {
      "needs_background": "light"
     },
     "output_type": "display_data"
    }
   ],
   "source": [
    "sns.distplot(df1[\"total_followers\"])"
   ]
  },
  {
   "cell_type": "code",
   "execution_count": 80,
   "id": "40c9c25f",
   "metadata": {},
   "outputs": [
    {
     "name": "stderr",
     "output_type": "stream",
     "text": [
      "C:\\Users\\hp\\anaconda34\\lib\\site-packages\\seaborn\\_decorators.py:36: FutureWarning: Pass the following variable as a keyword arg: x. From version 0.12, the only valid positional argument will be `data`, and passing other arguments without an explicit keyword will result in an error or misinterpretation.\n",
      "  warnings.warn(\n"
     ]
    },
    {
     "data": {
      "text/plain": [
       "<AxesSubplot:xlabel='total_followers'>"
      ]
     },
     "execution_count": 80,
     "metadata": {},
     "output_type": "execute_result"
    },
    {
     "data": {
      "image/png": "[encoded data removed]",
      "text/plain": [
       "<Figure size 432x288 with 1 Axes>"
      ]
     },
     "metadata": {
      "needs_background": "light"
     },
     "output_type": "display_data"
    }
   ],
   "source": [
    "sns.boxplot(df1[\"total_followers\"])"
   ]
  },
  {
   "cell_type": "code",
   "execution_count": null,
   "id": "b18a011d",
   "metadata": {},
   "outputs": [],
   "source": []
  }
 ],
 "metadata": {
  "kernelspec": {
   "display_name": "Python 3 (ipykernel)",
   "language": "python",
   "name": "python3"
  },
  "language_info": {
   "codemirror_mode": {
    "name": "ipython",
    "version": 3
   },
   "file_extension": ".py",
   "mimetype": "text/x-python",
   "name": "python",
   "nbconvert_exporter": "python",
   "pygments_lexer": "ipython3",
   "version": "3.9.12"
  }
 },
 "nbformat": 4,
 "nbformat_minor": 5
}
